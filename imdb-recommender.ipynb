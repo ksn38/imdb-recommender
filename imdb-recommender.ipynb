{
 "cells": [
  {
   "cell_type": "code",
   "execution_count": 39,
   "metadata": {},
   "outputs": [],
   "source": [
    "exported_my_ratings = '9e02a92d-9120-4ae4-96ae-260878049286.csv'\n",
    "selected_genres = [''] # or [''] to select all genres\n",
    "negative_genres = ['Drama'] # or [''] to remove all negative genres\n",
    "country = ''\n",
    "min_year = 1930\n",
    "max_year = 1960\n",
    "quartile1 = 0 # In case of a \"Memory error\", increase\n",
    "quartile3 = 0.6 # In case of a \"Memory error\", reduce"
   ]
  },
  {
   "cell_type": "code",
   "execution_count": 40,
   "metadata": {},
   "outputs": [],
   "source": [
    "import pandas as pd\n",
    "import numpy as np\n",
    "import matplotlib.pyplot as plt\n",
    "import re\n",
    "import json\n",
    "%matplotlib inline"
   ]
  },
  {
   "cell_type": "code",
   "execution_count": 41,
   "metadata": {},
   "outputs": [
    {
     "name": "stdout",
     "output_type": "stream",
     "text": [
      "26024289\n"
     ]
    },
    {
     "data": {
      "text/html": [
       "<div>\n",
       "<style scoped>\n",
       "    .dataframe tbody tr th:only-of-type {\n",
       "        vertical-align: middle;\n",
       "    }\n",
       "\n",
       "    .dataframe tbody tr th {\n",
       "        vertical-align: top;\n",
       "    }\n",
       "\n",
       "    .dataframe thead th {\n",
       "        text-align: right;\n",
       "    }\n",
       "</style>\n",
       "<table border=\"1\" class=\"dataframe\">\n",
       "  <thead>\n",
       "    <tr style=\"text-align: right;\">\n",
       "      <th></th>\n",
       "      <th>userId</th>\n",
       "      <th>movieId</th>\n",
       "      <th>rating</th>\n",
       "    </tr>\n",
       "  </thead>\n",
       "  <tbody>\n",
       "    <tr>\n",
       "      <th>0</th>\n",
       "      <td>1</td>\n",
       "      <td>110</td>\n",
       "      <td>1.0</td>\n",
       "    </tr>\n",
       "    <tr>\n",
       "      <th>1</th>\n",
       "      <td>1</td>\n",
       "      <td>147</td>\n",
       "      <td>4.5</td>\n",
       "    </tr>\n",
       "  </tbody>\n",
       "</table>\n",
       "</div>"
      ],
      "text/plain": [
       "   userId  movieId  rating\n",
       "0       1      110     1.0\n",
       "1       1      147     4.5"
      ]
     },
     "execution_count": 41,
     "metadata": {},
     "output_type": "execute_result"
    }
   ],
   "source": [
    "data = pd.read_csv('data/ratings.csv')\n",
    "data.drop('timestamp', axis=1, inplace=True)\n",
    "data = data.dropna()\n",
    "data['movieId'] = data['movieId'].astype('int64')\n",
    "print(len(data))\n",
    "data.head(2)"
   ]
  },
  {
   "cell_type": "code",
   "execution_count": 42,
   "metadata": {},
   "outputs": [
    {
     "name": "stdout",
     "output_type": "stream",
     "text": [
      "45466\n"
     ]
    },
    {
     "name": "stderr",
     "output_type": "stream",
     "text": [
      "C:\\Users\\ksn\\AppData\\Local\\Temp\\ipykernel_12856\\1554198658.py:1: DtypeWarning: Columns (10) have mixed types. Specify dtype option on import or set low_memory=False.\n",
      "  movies_data = pd.read_csv('data/movies_metadata.csv')\n"
     ]
    },
    {
     "data": {
      "text/html": [
       "<div>\n",
       "<style scoped>\n",
       "    .dataframe tbody tr th:only-of-type {\n",
       "        vertical-align: middle;\n",
       "    }\n",
       "\n",
       "    .dataframe tbody tr th {\n",
       "        vertical-align: top;\n",
       "    }\n",
       "\n",
       "    .dataframe thead th {\n",
       "        text-align: right;\n",
       "    }\n",
       "</style>\n",
       "<table border=\"1\" class=\"dataframe\">\n",
       "  <thead>\n",
       "    <tr style=\"text-align: right;\">\n",
       "      <th></th>\n",
       "      <th>adult</th>\n",
       "      <th>belongs_to_collection</th>\n",
       "      <th>budget</th>\n",
       "      <th>genres</th>\n",
       "      <th>homepage</th>\n",
       "      <th>movieId</th>\n",
       "      <th>imdb_id</th>\n",
       "      <th>original_language</th>\n",
       "      <th>original_title</th>\n",
       "      <th>overview</th>\n",
       "      <th>...</th>\n",
       "      <th>release_date</th>\n",
       "      <th>revenue</th>\n",
       "      <th>runtime</th>\n",
       "      <th>spoken_languages</th>\n",
       "      <th>status</th>\n",
       "      <th>tagline</th>\n",
       "      <th>title</th>\n",
       "      <th>video</th>\n",
       "      <th>vote_average</th>\n",
       "      <th>vote_count</th>\n",
       "    </tr>\n",
       "  </thead>\n",
       "  <tbody>\n",
       "    <tr>\n",
       "      <th>0</th>\n",
       "      <td>False</td>\n",
       "      <td>{'id': 10194, 'name': 'Toy Story Collection', ...</td>\n",
       "      <td>30000000</td>\n",
       "      <td>[{'id': 16, 'name': 'Animation'}, {'id': 35, '...</td>\n",
       "      <td>http://toystory.disney.com/toy-story</td>\n",
       "      <td>862</td>\n",
       "      <td>tt0114709</td>\n",
       "      <td>en</td>\n",
       "      <td>Toy Story</td>\n",
       "      <td>Led by Woody, Andy's toys live happily in his ...</td>\n",
       "      <td>...</td>\n",
       "      <td>1995-10-30</td>\n",
       "      <td>373554033.0</td>\n",
       "      <td>81.0</td>\n",
       "      <td>[{'iso_639_1': 'en', 'name': 'English'}]</td>\n",
       "      <td>Released</td>\n",
       "      <td>NaN</td>\n",
       "      <td>Toy Story</td>\n",
       "      <td>False</td>\n",
       "      <td>7.7</td>\n",
       "      <td>5415.0</td>\n",
       "    </tr>\n",
       "    <tr>\n",
       "      <th>1</th>\n",
       "      <td>False</td>\n",
       "      <td>NaN</td>\n",
       "      <td>65000000</td>\n",
       "      <td>[{'id': 12, 'name': 'Adventure'}, {'id': 14, '...</td>\n",
       "      <td>NaN</td>\n",
       "      <td>8844</td>\n",
       "      <td>tt0113497</td>\n",
       "      <td>en</td>\n",
       "      <td>Jumanji</td>\n",
       "      <td>When siblings Judy and Peter discover an encha...</td>\n",
       "      <td>...</td>\n",
       "      <td>1995-12-15</td>\n",
       "      <td>262797249.0</td>\n",
       "      <td>104.0</td>\n",
       "      <td>[{'iso_639_1': 'en', 'name': 'English'}, {'iso...</td>\n",
       "      <td>Released</td>\n",
       "      <td>Roll the dice and unleash the excitement!</td>\n",
       "      <td>Jumanji</td>\n",
       "      <td>False</td>\n",
       "      <td>6.9</td>\n",
       "      <td>2413.0</td>\n",
       "    </tr>\n",
       "  </tbody>\n",
       "</table>\n",
       "<p>2 rows × 24 columns</p>\n",
       "</div>"
      ],
      "text/plain": [
       "   adult                              belongs_to_collection    budget  \\\n",
       "0  False  {'id': 10194, 'name': 'Toy Story Collection', ...  30000000   \n",
       "1  False                                                NaN  65000000   \n",
       "\n",
       "                                              genres  \\\n",
       "0  [{'id': 16, 'name': 'Animation'}, {'id': 35, '...   \n",
       "1  [{'id': 12, 'name': 'Adventure'}, {'id': 14, '...   \n",
       "\n",
       "                               homepage movieId    imdb_id original_language  \\\n",
       "0  http://toystory.disney.com/toy-story     862  tt0114709                en   \n",
       "1                                   NaN    8844  tt0113497                en   \n",
       "\n",
       "  original_title                                           overview  ...  \\\n",
       "0      Toy Story  Led by Woody, Andy's toys live happily in his ...  ...   \n",
       "1        Jumanji  When siblings Judy and Peter discover an encha...  ...   \n",
       "\n",
       "  release_date      revenue runtime  \\\n",
       "0   1995-10-30  373554033.0    81.0   \n",
       "1   1995-12-15  262797249.0   104.0   \n",
       "\n",
       "                                    spoken_languages    status  \\\n",
       "0           [{'iso_639_1': 'en', 'name': 'English'}]  Released   \n",
       "1  [{'iso_639_1': 'en', 'name': 'English'}, {'iso...  Released   \n",
       "\n",
       "                                     tagline      title  video vote_average  \\\n",
       "0                                        NaN  Toy Story  False          7.7   \n",
       "1  Roll the dice and unleash the excitement!    Jumanji  False          6.9   \n",
       "\n",
       "  vote_count  \n",
       "0     5415.0  \n",
       "1     2413.0  \n",
       "\n",
       "[2 rows x 24 columns]"
      ]
     },
     "execution_count": 42,
     "metadata": {},
     "output_type": "execute_result"
    }
   ],
   "source": [
    "movies_data = pd.read_csv('data/movies_metadata.csv')\n",
    "movies_data = movies_data.rename(columns={\"id\": \"movieId\"})\n",
    "print(len(movies_data))\n",
    "movies_data.head(2)"
   ]
  },
  {
   "cell_type": "code",
   "execution_count": 43,
   "metadata": {},
   "outputs": [],
   "source": [
    "movies = movies_data.copy()\n",
    "\n",
    "for i in movies_data.index:\n",
    "    if re.findall('-', movies_data.iloc[i]['movieId']):\n",
    "        movies.drop(i, inplace=True)\n",
    "\n",
    "movies['movieId'] = movies['movieId'].astype('int64')\n",
    "movies3 = movies[['movieId', 'vote_average', 'vote_count']].copy()"
   ]
  },
  {
   "cell_type": "code",
   "execution_count": 44,
   "metadata": {},
   "outputs": [
    {
     "name": "stdout",
     "output_type": "stream",
     "text": [
      "264\n"
     ]
    },
    {
     "data": {
      "text/html": [
       "<div>\n",
       "<style scoped>\n",
       "    .dataframe tbody tr th:only-of-type {\n",
       "        vertical-align: middle;\n",
       "    }\n",
       "\n",
       "    .dataframe tbody tr th {\n",
       "        vertical-align: top;\n",
       "    }\n",
       "\n",
       "    .dataframe thead th {\n",
       "        text-align: right;\n",
       "    }\n",
       "</style>\n",
       "<table border=\"1\" class=\"dataframe\">\n",
       "  <thead>\n",
       "    <tr style=\"text-align: right;\">\n",
       "      <th></th>\n",
       "      <th>imdb_id</th>\n",
       "      <th>rating</th>\n",
       "      <th>Date Rated</th>\n",
       "      <th>Title</th>\n",
       "      <th>Original Title</th>\n",
       "      <th>URL</th>\n",
       "      <th>Title Type</th>\n",
       "      <th>IMDb Rating</th>\n",
       "      <th>Runtime (mins)</th>\n",
       "      <th>Year</th>\n",
       "      <th>Genres</th>\n",
       "      <th>Num Votes</th>\n",
       "      <th>Release Date</th>\n",
       "      <th>Directors</th>\n",
       "    </tr>\n",
       "  </thead>\n",
       "  <tbody>\n",
       "    <tr>\n",
       "      <th>0</th>\n",
       "      <td>tt0022100</td>\n",
       "      <td>7</td>\n",
       "      <td>2025-09-18</td>\n",
       "      <td>М убийца</td>\n",
       "      <td>M - Eine Stadt sucht einen Mörder</td>\n",
       "      <td>https://www.imdb.com/title/tt0022100</td>\n",
       "      <td>Movie</td>\n",
       "      <td>8.3</td>\n",
       "      <td>117</td>\n",
       "      <td>1931</td>\n",
       "      <td>Crime, Mystery, Thriller</td>\n",
       "      <td>179212</td>\n",
       "      <td>1931-08-31</td>\n",
       "      <td>Fritz Lang</td>\n",
       "    </tr>\n",
       "    <tr>\n",
       "      <th>1</th>\n",
       "      <td>tt10796286</td>\n",
       "      <td>9</td>\n",
       "      <td>2025-06-08</td>\n",
       "      <td>Дорогие товарищи!</td>\n",
       "      <td>Dorogie tovarishchi</td>\n",
       "      <td>https://www.imdb.com/title/tt10796286</td>\n",
       "      <td>Movie</td>\n",
       "      <td>7.4</td>\n",
       "      <td>121</td>\n",
       "      <td>2020</td>\n",
       "      <td>Drama, History</td>\n",
       "      <td>6334</td>\n",
       "      <td>2020-11-12</td>\n",
       "      <td>Andrei Konchalovsky</td>\n",
       "    </tr>\n",
       "  </tbody>\n",
       "</table>\n",
       "</div>"
      ],
      "text/plain": [
       "      imdb_id  rating  Date Rated              Title  \\\n",
       "0   tt0022100       7  2025-09-18           М убийца   \n",
       "1  tt10796286       9  2025-06-08  Дорогие товарищи!   \n",
       "\n",
       "                      Original Title                                    URL  \\\n",
       "0  M - Eine Stadt sucht einen Mörder   https://www.imdb.com/title/tt0022100   \n",
       "1                Dorogie tovarishchi  https://www.imdb.com/title/tt10796286   \n",
       "\n",
       "  Title Type  IMDb Rating  Runtime (mins)  Year                    Genres  \\\n",
       "0      Movie          8.3             117  1931  Crime, Mystery, Thriller   \n",
       "1      Movie          7.4             121  2020            Drama, History   \n",
       "\n",
       "   Num Votes Release Date            Directors  \n",
       "0     179212   1931-08-31           Fritz Lang  \n",
       "1       6334   2020-11-12  Andrei Konchalovsky  "
      ]
     },
     "execution_count": 44,
     "metadata": {},
     "output_type": "execute_result"
    }
   ],
   "source": [
    "my_ratings = pd.read_csv(exported_my_ratings)\n",
    "print(len(my_ratings))\n",
    "my_ratings = my_ratings.rename(columns={\"Const\": \"imdb_id\", \"Your Rating\": \"rating\"})\n",
    "my_ratings.head(2)"
   ]
  },
  {
   "cell_type": "code",
   "execution_count": 45,
   "metadata": {},
   "outputs": [
    {
     "data": {
      "text/html": [
       "<div>\n",
       "<style scoped>\n",
       "    .dataframe tbody tr th:only-of-type {\n",
       "        vertical-align: middle;\n",
       "    }\n",
       "\n",
       "    .dataframe tbody tr th {\n",
       "        vertical-align: top;\n",
       "    }\n",
       "\n",
       "    .dataframe thead th {\n",
       "        text-align: right;\n",
       "    }\n",
       "</style>\n",
       "<table border=\"1\" class=\"dataframe\">\n",
       "  <thead>\n",
       "    <tr style=\"text-align: right;\">\n",
       "      <th></th>\n",
       "      <th>rating</th>\n",
       "      <th>userId</th>\n",
       "      <th>movieId</th>\n",
       "    </tr>\n",
       "    <tr>\n",
       "      <th>movieId</th>\n",
       "      <th></th>\n",
       "      <th></th>\n",
       "      <th></th>\n",
       "    </tr>\n",
       "  </thead>\n",
       "  <tbody>\n",
       "    <tr>\n",
       "      <th>832.0</th>\n",
       "      <td>7</td>\n",
       "      <td>400000</td>\n",
       "      <td>832.0</td>\n",
       "    </tr>\n",
       "    <tr>\n",
       "      <th>NaN</th>\n",
       "      <td>9</td>\n",
       "      <td>400000</td>\n",
       "      <td>NaN</td>\n",
       "    </tr>\n",
       "  </tbody>\n",
       "</table>\n",
       "</div>"
      ],
      "text/plain": [
       "         rating  userId  movieId\n",
       "movieId                         \n",
       "832.0         7  400000    832.0\n",
       "NaN           9  400000      NaN"
      ]
     },
     "execution_count": 45,
     "metadata": {},
     "output_type": "execute_result"
    }
   ],
   "source": [
    "my = my_ratings[['imdb_id', 'rating']].copy()\n",
    "my['userId'] = 400000\n",
    "ids = movies[['movieId', 'imdb_id']]\n",
    "my = my.merge(ids, how='left', on='imdb_id')\n",
    "my.drop('imdb_id', axis=1, inplace=True)\n",
    "my.index = my['movieId']\n",
    "my.head(2)"
   ]
  },
  {
   "cell_type": "markdown",
   "metadata": {},
   "source": [
    "Delete movies from the data that are not in the table 'movies'"
   ]
  },
  {
   "cell_type": "code",
   "execution_count": 46,
   "metadata": {},
   "outputs": [
    {
     "data": {
      "text/plain": [
       "11436568"
      ]
     },
     "execution_count": 46,
     "metadata": {},
     "output_type": "execute_result"
    }
   ],
   "source": [
    "delta = set(data['movieId']) - set(movies['movieId'])\n",
    "data_train = data.loc[~data['movieId'].isin(delta)]\n",
    "len(data_train)"
   ]
  },
  {
   "cell_type": "markdown",
   "metadata": {},
   "source": [
    "Creating genres table"
   ]
  },
  {
   "cell_type": "code",
   "execution_count": 47,
   "metadata": {},
   "outputs": [
    {
     "name": "stderr",
     "output_type": "stream",
     "text": [
      "<>:4: SyntaxWarning: invalid escape sequence '\\w'\n",
      "<>:15: SyntaxWarning: invalid escape sequence '\\w'\n",
      "<>:4: SyntaxWarning: invalid escape sequence '\\w'\n",
      "<>:15: SyntaxWarning: invalid escape sequence '\\w'\n",
      "C:\\Users\\ksn\\AppData\\Local\\Temp\\ipykernel_12856\\775438447.py:4: SyntaxWarning: invalid escape sequence '\\w'\n",
      "  genres.extend(list(map(lambda x: x[9:], re.findall(\"'name': '\\w*\", movies.iloc[i]['genres']))))\n",
      "C:\\Users\\ksn\\AppData\\Local\\Temp\\ipykernel_12856\\775438447.py:15: SyntaxWarning: invalid escape sequence '\\w'\n",
      "  genres = list(map(lambda x: x[9:], re.findall(\"'name': '\\w*\", str(movies.loc[movies['movieId'] == i]['genres']))))\n",
      "C:\\Users\\ksn\\AppData\\Local\\Temp\\ipykernel_12856\\775438447.py:10: FutureWarning: Downcasting object dtype arrays on .fillna, .ffill, .bfill is deprecated and will change in a future version. Call result.infer_objects(copy=False) instead. To opt-in to the future behavior, set `pd.set_option('future.no_silent_downcasting', True)`\n",
      "  df_genres = df_genres.fillna(0)\n"
     ]
    }
   ],
   "source": [
    "genres = []\n",
    "\n",
    "for i in range(len(movies)):\n",
    "    genres.extend(list(map(lambda x: x[9:], re.findall(\"'name': '\\w*\", movies.iloc[i]['genres']))))\n",
    "\n",
    "colms = list(set(genres))\n",
    "\n",
    "df_genres = pd.DataFrame(columns=colms)\n",
    "df_genres['movieId'] = movies['movieId']\n",
    "df_genres = df_genres.fillna(0)\n",
    "df_genres.index = df_genres['movieId']\n",
    "df_genres.drop('movieId', axis=1, inplace=True)\n",
    "\n",
    "for i in df_genres.index:\n",
    "    genres = list(map(lambda x: x[9:], re.findall(\"'name': '\\w*\", str(movies.loc[movies['movieId'] == i]['genres']))))\n",
    "    for j in genres:\n",
    "        df_genres.at[i, j] = 1\n",
    "\n",
    "sum_col = [sum(df_genres[i]) for i in df_genres.columns]\n",
    "\n",
    "for i in df_genres.columns:\n",
    "    if sum(df_genres[i]) < np.percentile(np.array(sum_col), 10):\n",
    "        try:\n",
    "            df_genres.drop(i, axis=1, inplace=True)\n",
    "        except KeyError:\n",
    "            pass"
   ]
  },
  {
   "cell_type": "markdown",
   "metadata": {},
   "source": [
    "Limit by genres"
   ]
  },
  {
   "cell_type": "code",
   "execution_count": 48,
   "metadata": {},
   "outputs": [
    {
     "name": "stdout",
     "output_type": "stream",
     "text": [
      "11436568\n"
     ]
    }
   ],
   "source": [
    "if selected_genres[0] != '':\n",
    "    my_genres = []\n",
    "    for i in selected_genres:\n",
    "        my_genres.extend(list(df_genres.loc[df_genres[i] == 1].index))\n",
    "    my_genres = list(set(my_genres))\n",
    "    data_train = data_train.loc[data_train['movieId'].isin(my_genres)]\n",
    "    my = my.loc[my['movieId'].isin(my_genres)]\n",
    "    movies3 = movies3.loc[movies3['movieId'].isin(my_genres)]\n",
    "print(len(data_train))"
   ]
  },
  {
   "cell_type": "code",
   "execution_count": 49,
   "metadata": {},
   "outputs": [
    {
     "name": "stdout",
     "output_type": "stream",
     "text": [
      "7666821\n"
     ]
    }
   ],
   "source": [
    "if negative_genres[0] != '':\n",
    "    my_neg_genres = []\n",
    "    for i in negative_genres:\n",
    "        my_neg_genres.extend(list(df_genres.loc[df_genres[i] == 1].index))\n",
    "    data_train = data_train.loc[~data_train['movieId'].isin(my_neg_genres)]\n",
    "    my = my.loc[~my['movieId'].isin(my_neg_genres)]\n",
    "    movies3 = movies3.loc[~movies3['movieId'].isin(my_neg_genres)]\n",
    "    print(len(data_train))"
   ]
  },
  {
   "cell_type": "markdown",
   "metadata": {},
   "source": [
    "limit by years"
   ]
  },
  {
   "cell_type": "code",
   "execution_count": 50,
   "metadata": {},
   "outputs": [
    {
     "data": {
      "text/plain": [
       "787174"
      ]
     },
     "execution_count": 50,
     "metadata": {},
     "output_type": "execute_result"
    }
   ],
   "source": [
    "movieId = []\n",
    "year = []\n",
    "\n",
    "for i in movies['movieId']:\n",
    "    movieId.append(i)\n",
    "    try:\n",
    "        year.append(int(re.findall('[0-9]{4}-', str(movies.loc[movies['movieId'] == i]['release_date']))[0][0:4]))\n",
    "    except IndexError:\n",
    "        year.append(8888)\n",
    "\n",
    "df_year = pd.DataFrame({'movieId': movieId, 'year': year})\n",
    "df_year = df_year.loc[(df_year['year'] < max_year)&(df_year['year'] > min_year)]\n",
    "\n",
    "data_train = data_train.loc[data_train['movieId'].isin(df_year['movieId'])]\n",
    "my = my.loc[my['movieId'].isin(df_year['movieId'])]\n",
    "movies3 = movies3.loc[movies3['movieId'].isin(df_year['movieId'])]\n",
    "len(data_train)"
   ]
  },
  {
   "cell_type": "markdown",
   "metadata": {},
   "source": [
    "Limit by country"
   ]
  },
  {
   "cell_type": "code",
   "execution_count": 51,
   "metadata": {},
   "outputs": [
    {
     "name": "stdout",
     "output_type": "stream",
     "text": [
      "787174\n"
     ]
    }
   ],
   "source": [
    "if country  != '':\n",
    "    #Adding country column\n",
    "    countries = []\n",
    "\n",
    "    for i in movies.index:\n",
    "        try:\n",
    "            c = movies['production_countries'][i].replace(\"}, {\", \"}]comma[{\").split('comma')\n",
    "        except AttributeError:\n",
    "            pass\n",
    "    \n",
    "        if len(c) > 1:\n",
    "            for j in c:\n",
    "                if j[17:19] not in ('CI', 'LA'):\n",
    "                    countries.append(json.loads(j.replace(\"\\'\", \"\\\"\")[1:-1])['name'])\n",
    "                    movies.at[i, 'countries'] = json.loads(j.replace(\"\\'\", \"\\\"\")[1:-1])['name']\n",
    "        if len(c[0]) > 2:\n",
    "            if c[0][17:19] not in ('CI', 'LA'):\n",
    "                countries.append(json.loads(c[0].replace(\"\\'\", \"\\\"\")[1:-1])['name'])\n",
    "                movies.at[i, 'countries'] = json.loads(c[0].replace(\"\\'\", \"\\\"\")[1:-1])['name']\n",
    "\n",
    "    #Limit by country\n",
    "    if country == 'Russia':\n",
    "        selected_countries = list(movies.loc[(movies['countries'] == 'Soviet Union')|(movies['countries'] == 'Russia')]['movieId'])\n",
    "    else:\n",
    "        selected_countries = list(movies.loc[movies['countries'] == country]['movieId'])\n",
    "    \n",
    "    data_train = data_train.loc[data_train['movieId'].isin(selected_countries)]\n",
    "    my = my.loc[my['movieId'].isin(selected_countries)]\n",
    "    movies3 = movies3.loc[movies3['movieId'].isin(selected_countries)]\n",
    "print(len(data_train))"
   ]
  },
  {
   "cell_type": "markdown",
   "metadata": {},
   "source": [
    "### Reducing amount of data"
   ]
  },
  {
   "cell_type": "code",
   "execution_count": 52,
   "metadata": {},
   "outputs": [
    {
     "data": {
      "text/html": [
       "<div>\n",
       "<style scoped>\n",
       "    .dataframe tbody tr th:only-of-type {\n",
       "        vertical-align: middle;\n",
       "    }\n",
       "\n",
       "    .dataframe tbody tr th {\n",
       "        vertical-align: top;\n",
       "    }\n",
       "\n",
       "    .dataframe thead th {\n",
       "        text-align: right;\n",
       "    }\n",
       "</style>\n",
       "<table border=\"1\" class=\"dataframe\">\n",
       "  <thead>\n",
       "    <tr style=\"text-align: right;\">\n",
       "      <th></th>\n",
       "      <th>movieId</th>\n",
       "      <th>rating_rank</th>\n",
       "    </tr>\n",
       "  </thead>\n",
       "  <tbody>\n",
       "    <tr>\n",
       "      <th>11</th>\n",
       "      <td>260</td>\n",
       "      <td>608.0</td>\n",
       "    </tr>\n",
       "    <tr>\n",
       "      <th>20</th>\n",
       "      <td>457</td>\n",
       "      <td>607.0</td>\n",
       "    </tr>\n",
       "    <tr>\n",
       "      <th>118</th>\n",
       "      <td>3578</td>\n",
       "      <td>606.0</td>\n",
       "    </tr>\n",
       "  </tbody>\n",
       "</table>\n",
       "</div>"
      ],
      "text/plain": [
       "     movieId  rating_rank\n",
       "11       260        608.0\n",
       "20       457        607.0\n",
       "118     3578        606.0"
      ]
     },
     "execution_count": 52,
     "metadata": {},
     "output_type": "execute_result"
    }
   ],
   "source": [
    "popularity_movie = data_train.groupby('movieId')['rating'].count().reset_index().sort_values('rating', ascending=False)\n",
    "popularity_movie['rating_rank'] = popularity_movie['rating'].rank()\n",
    "popularity_movie.drop('rating', axis=1, inplace=True)\n",
    "popularity_movie.head(3)"
   ]
  },
  {
   "cell_type": "code",
   "execution_count": 53,
   "metadata": {},
   "outputs": [],
   "source": [
    "data_train = pd.merge(data_train, popularity_movie, how='left', on='movieId')"
   ]
  },
  {
   "cell_type": "code",
   "execution_count": 54,
   "metadata": {},
   "outputs": [
    {
     "data": {
      "text/html": [
       "<div>\n",
       "<style scoped>\n",
       "    .dataframe tbody tr th:only-of-type {\n",
       "        vertical-align: middle;\n",
       "    }\n",
       "\n",
       "    .dataframe tbody tr th {\n",
       "        vertical-align: top;\n",
       "    }\n",
       "\n",
       "    .dataframe thead th {\n",
       "        text-align: right;\n",
       "    }\n",
       "</style>\n",
       "<table border=\"1\" class=\"dataframe\">\n",
       "  <thead>\n",
       "    <tr style=\"text-align: right;\">\n",
       "      <th></th>\n",
       "      <th>userId</th>\n",
       "      <th>rating_rank</th>\n",
       "    </tr>\n",
       "  </thead>\n",
       "  <tbody>\n",
       "    <tr>\n",
       "      <th>0</th>\n",
       "      <td>45811</td>\n",
       "      <td>106238.5</td>\n",
       "    </tr>\n",
       "    <tr>\n",
       "      <th>1</th>\n",
       "      <td>8659</td>\n",
       "      <td>91392.0</td>\n",
       "    </tr>\n",
       "    <tr>\n",
       "      <th>2</th>\n",
       "      <td>179792</td>\n",
       "      <td>85912.0</td>\n",
       "    </tr>\n",
       "  </tbody>\n",
       "</table>\n",
       "</div>"
      ],
      "text/plain": [
       "   userId  rating_rank\n",
       "0   45811     106238.5\n",
       "1    8659      91392.0\n",
       "2  179792      85912.0"
      ]
     },
     "execution_count": 54,
     "metadata": {},
     "output_type": "execute_result"
    }
   ],
   "source": [
    "user_sum_rating = data_train.groupby('userId')['rating_rank'].sum().reset_index().sort_values('rating_rank', ascending=False).reset_index(drop=True)\n",
    "user_sum_rating.head(3)"
   ]
  },
  {
   "cell_type": "code",
   "execution_count": 55,
   "metadata": {},
   "outputs": [
    {
     "data": {
      "text/html": [
       "<div>\n",
       "<style scoped>\n",
       "    .dataframe tbody tr th:only-of-type {\n",
       "        vertical-align: middle;\n",
       "    }\n",
       "\n",
       "    .dataframe tbody tr th {\n",
       "        vertical-align: top;\n",
       "    }\n",
       "\n",
       "    .dataframe thead th {\n",
       "        text-align: right;\n",
       "    }\n",
       "</style>\n",
       "<table border=\"1\" class=\"dataframe\">\n",
       "  <thead>\n",
       "    <tr style=\"text-align: right;\">\n",
       "      <th></th>\n",
       "      <th>userId</th>\n",
       "      <th>rating_rank</th>\n",
       "    </tr>\n",
       "  </thead>\n",
       "  <tbody>\n",
       "    <tr>\n",
       "      <th>0</th>\n",
       "      <td>45811</td>\n",
       "      <td>292</td>\n",
       "    </tr>\n",
       "    <tr>\n",
       "      <th>1</th>\n",
       "      <td>8659</td>\n",
       "      <td>211</td>\n",
       "    </tr>\n",
       "    <tr>\n",
       "      <th>2</th>\n",
       "      <td>179792</td>\n",
       "      <td>173</td>\n",
       "    </tr>\n",
       "  </tbody>\n",
       "</table>\n",
       "</div>"
      ],
      "text/plain": [
       "   userId  rating_rank\n",
       "0   45811          292\n",
       "1    8659          211\n",
       "2  179792          173"
      ]
     },
     "execution_count": 55,
     "metadata": {},
     "output_type": "execute_result"
    }
   ],
   "source": [
    "user_count_rating = data_train.groupby('userId')['rating_rank'].count().reset_index().sort_values('rating_rank', ascending=False).reset_index(drop=True)\n",
    "user_count_rating.head(3)"
   ]
  },
  {
   "cell_type": "code",
   "execution_count": 56,
   "metadata": {},
   "outputs": [
    {
     "data": {
      "text/html": [
       "<div>\n",
       "<style scoped>\n",
       "    .dataframe tbody tr th:only-of-type {\n",
       "        vertical-align: middle;\n",
       "    }\n",
       "\n",
       "    .dataframe tbody tr th {\n",
       "        vertical-align: top;\n",
       "    }\n",
       "\n",
       "    .dataframe thead th {\n",
       "        text-align: right;\n",
       "    }\n",
       "</style>\n",
       "<table border=\"1\" class=\"dataframe\">\n",
       "  <thead>\n",
       "    <tr style=\"text-align: right;\">\n",
       "      <th></th>\n",
       "      <th>userId</th>\n",
       "      <th>rating_rank</th>\n",
       "    </tr>\n",
       "  </thead>\n",
       "  <tbody>\n",
       "    <tr>\n",
       "      <th>0</th>\n",
       "      <td>45811</td>\n",
       "      <td>363.830479</td>\n",
       "    </tr>\n",
       "    <tr>\n",
       "      <th>1</th>\n",
       "      <td>8659</td>\n",
       "      <td>433.137441</td>\n",
       "    </tr>\n",
       "    <tr>\n",
       "      <th>2</th>\n",
       "      <td>179792</td>\n",
       "      <td>496.601156</td>\n",
       "    </tr>\n",
       "  </tbody>\n",
       "</table>\n",
       "</div>"
      ],
      "text/plain": [
       "   userId  rating_rank\n",
       "0   45811   363.830479\n",
       "1    8659   433.137441\n",
       "2  179792   496.601156"
      ]
     },
     "execution_count": 56,
     "metadata": {},
     "output_type": "execute_result"
    }
   ],
   "source": [
    "user_rating = pd.merge(user_sum_rating, user_count_rating, how='left', on='userId')\n",
    "user_rating['rating_rank'] = user_rating['rating_rank_x']/user_rating['rating_rank_y']\n",
    "user_rating.drop(['rating_rank_x', 'rating_rank_y'], axis=1, inplace=True)\n",
    "user_rating.head(3)"
   ]
  },
  {
   "cell_type": "code",
   "execution_count": 57,
   "metadata": {},
   "outputs": [
    {
     "data": {
      "image/png": "[encoded data removed]",
      "text/plain": [
       "<Figure size 640x480 with 1 Axes>"
      ]
     },
     "metadata": {},
     "output_type": "display_data"
    }
   ],
   "source": [
    "plt.boxplot(user_rating['rating_rank'], vert=False)\n",
    "plt.show()"
   ]
  },
  {
   "cell_type": "markdown",
   "metadata": {},
   "source": [
    "Selected interquartile range "
   ]
  },
  {
   "cell_type": "code",
   "execution_count": 58,
   "metadata": {},
   "outputs": [
    {
     "name": "stdout",
     "output_type": "stream",
     "text": [
      "Q1=23.5, Q3=601.0\n"
     ]
    },
    {
     "data": {
      "image/png": "[encoded data removed]",
      "text/plain": [
       "<Figure size 640x480 with 1 Axes>"
      ]
     },
     "metadata": {},
     "output_type": "display_data"
    }
   ],
   "source": [
    "Q1 = user_rating['rating_rank'].quantile(quartile1)\n",
    "Q3 = user_rating['rating_rank'].quantile(quartile3)\n",
    "print(f'Q1={Q1}, Q3={Q3}')\n",
    "user_rating_iqr = user_rating.loc[(user_rating['rating_rank'] < Q3) & (user_rating['rating_rank'] > Q1)]\n",
    "user_list = user_rating_iqr['userId'].tolist()\n",
    "plt.boxplot(user_rating_iqr['rating_rank'], vert=False)\n",
    "plt.show()"
   ]
  },
  {
   "cell_type": "code",
   "execution_count": 59,
   "metadata": {},
   "outputs": [
    {
     "data": {
      "text/plain": [
       "632632"
      ]
     },
     "execution_count": 59,
     "metadata": {},
     "output_type": "execute_result"
    }
   ],
   "source": [
    "data_train = data_train.loc[data_train['userId'].isin(user_list)]\n",
    "data_train.drop('rating_rank', axis=1, inplace=True)\n",
    "data_train = pd.concat([data_train, my], ignore_index=True)\n",
    "len(data_train)"
   ]
  },
  {
   "cell_type": "code",
   "execution_count": 60,
   "metadata": {
    "scrolled": true
   },
   "outputs": [
    {
     "name": "stderr",
     "output_type": "stream",
     "text": [
      "100%|██████████████████████████████████████████████████████████████████████████████████| 20/20 [00:03<00:00,  5.55it/s]\n"
     ]
    }
   ],
   "source": [
    "import implicit\n",
    "from scipy.sparse import csr_matrix\n",
    "\n",
    "# initialize a model\n",
    "model = implicit.als.AlternatingLeastSquares(factors=100,\n",
    "                                        regularization=0.05, \n",
    "                                        alpha=2.0,\n",
    "                                        iterations=20,\n",
    "                                        random_state=38)\n",
    "\n",
    "# train the model on a sparse matrix of user/item/confidence weights\n",
    "user_item_matrix = pd.pivot_table(data_train,\n",
    "                                  index='userId', columns='movieId',\n",
    "                                  values='rating',\n",
    "                                  fill_value=0)\n",
    "\n",
    "# scipy resets indexes\n",
    "idALS_movieId = dict((i, j) for i, j in enumerate(user_item_matrix.columns))\n",
    "\n",
    "user_item_matrix = user_item_matrix.astype(float)\n",
    "user_item_matrix_csr = csr_matrix(user_item_matrix).tocsr()\n",
    "\n",
    "model.fit(user_item_matrix_csr)"
   ]
  },
  {
   "cell_type": "code",
   "execution_count": 61,
   "metadata": {},
   "outputs": [],
   "source": [
    "from implicit.nearest_neighbours import bm25_weight\n",
    "\n",
    "# weight the matrix, both to reduce impact of users that have played the same artist thousands of times\n",
    "# and to reduce the weight given to popular items\n",
    "#user_item_matrix_csr = bm25_weight(user_item_matrix_csr, K1=100, B=0.8)"
   ]
  },
  {
   "cell_type": "code",
   "execution_count": 62,
   "metadata": {},
   "outputs": [],
   "source": [
    "id_score = model.recommend(-1, user_item_matrix_csr[-1], N=250, filter_already_liked_items=True)\n",
    "moviesId = [idALS_movieId[i] for i in id_score[0]]\n",
    "ALScore = dict((i, j) for i, j in zip(moviesId, id_score[1]))"
   ]
  },
  {
   "cell_type": "code",
   "execution_count": 63,
   "metadata": {},
   "outputs": [],
   "source": [
    "my_bt6 = my.loc[my['rating'] > 6]\n",
    "my_genres = df_genres[df_genres.index.isin(my_bt6['movieId'])].mean().values\n",
    "\n",
    "def rec_final(rec):\n",
    "    name = []\n",
    "    date = []\n",
    "    url = []\n",
    "    als_score = []\n",
    "    score_imdb = []\n",
    "    corr = []\n",
    "\n",
    "    for i in rec:\n",
    "        if i not in my.index:\n",
    "            name.append(movies.loc[movies['movieId'] == i]['original_title'].values[0])\n",
    "            date.append(movies.loc[movies['movieId'] == i]['release_date'].values[0])\n",
    "            url.append('https://www.imdb.com/title/' + str(movies.loc[movies['movieId'] == i]['imdb_id'].values[0]))\n",
    "            if type(rec) == list:\n",
    "                als_score.append(ALScore[i])\n",
    "            score_imdb.append(movies.loc[movies['movieId'] == i]['vote_average'].values[0])\n",
    "            corr.append(0)\n",
    "            if df_genres.loc[int(i)].sum().any() != 0:\n",
    "                corr[-1] = (np.corrcoef(my_genres, df_genres.loc[int(i)])[0, 1])\n",
    "\n",
    "    df =  pd.DataFrame({'name': name, 'date': date, 'url': url, 'score imdb': score_imdb, 'correlation': corr})\n",
    "    df['rank'] = df['score imdb'].rank() + df['correlation'].rank()\n",
    "    df = df.sort_values('rank', ascending=False)\n",
    "    if type(rec) == list:\n",
    "        df =  pd.DataFrame({'name': name, 'date': date, 'url': url, 'ALS score': als_score, 'score imdb': score_imdb, 'correlation': corr}).drop_duplicates()\n",
    "        df['rank'] = df['score imdb'].rank() + df['ALS score'].rank() + df['correlation'].rank()\n",
    "        df = df.sort_values('rank', ascending=False)\n",
    "    return df"
   ]
  },
  {
   "cell_type": "code",
   "execution_count": 64,
   "metadata": {},
   "outputs": [
    {
     "data": {
      "text/html": [
       "<div>\n",
       "<style scoped>\n",
       "    .dataframe tbody tr th:only-of-type {\n",
       "        vertical-align: middle;\n",
       "    }\n",
       "\n",
       "    .dataframe tbody tr th {\n",
       "        vertical-align: top;\n",
       "    }\n",
       "\n",
       "    .dataframe thead th {\n",
       "        text-align: right;\n",
       "    }\n",
       "</style>\n",
       "<table border=\"1\" class=\"dataframe\">\n",
       "  <thead>\n",
       "    <tr style=\"text-align: right;\">\n",
       "      <th></th>\n",
       "      <th>name</th>\n",
       "      <th>date</th>\n",
       "      <th>url</th>\n",
       "      <th>ALS score</th>\n",
       "      <th>score imdb</th>\n",
       "      <th>correlation</th>\n",
       "      <th>rank</th>\n",
       "    </tr>\n",
       "  </thead>\n",
       "  <tbody>\n",
       "    <tr>\n",
       "      <th>8</th>\n",
       "      <td>Mister Roberts</td>\n",
       "      <td>1955-07-13</td>\n",
       "      <td>https://www.imdb.com/title/tt0048380</td>\n",
       "      <td>1.110368</td>\n",
       "      <td>7.3</td>\n",
       "      <td>0.929944</td>\n",
       "      <td>676.5</td>\n",
       "    </tr>\n",
       "    <tr>\n",
       "      <th>46</th>\n",
       "      <td>Blondie Goes Latin</td>\n",
       "      <td>1941-02-27</td>\n",
       "      <td>https://www.imdb.com/title/tt0033403</td>\n",
       "      <td>0.581796</td>\n",
       "      <td>8.0</td>\n",
       "      <td>0.929944</td>\n",
       "      <td>663.5</td>\n",
       "    </tr>\n",
       "    <tr>\n",
       "      <th>26</th>\n",
       "      <td>The Dentist</td>\n",
       "      <td>1932-12-09</td>\n",
       "      <td>https://www.imdb.com/title/tt0022807</td>\n",
       "      <td>0.712673</td>\n",
       "      <td>7.1</td>\n",
       "      <td>0.929944</td>\n",
       "      <td>647.0</td>\n",
       "    </tr>\n",
       "    <tr>\n",
       "      <th>48</th>\n",
       "      <td>Arsenic and Old Lace</td>\n",
       "      <td>1944-09-23</td>\n",
       "      <td>https://www.imdb.com/title/tt0036613</td>\n",
       "      <td>0.571270</td>\n",
       "      <td>7.4</td>\n",
       "      <td>0.929944</td>\n",
       "      <td>643.0</td>\n",
       "    </tr>\n",
       "    <tr>\n",
       "      <th>6</th>\n",
       "      <td>The African Queen</td>\n",
       "      <td>1951-12-03</td>\n",
       "      <td>https://www.imdb.com/title/tt0043265</td>\n",
       "      <td>1.148694</td>\n",
       "      <td>7.4</td>\n",
       "      <td>0.274269</td>\n",
       "      <td>641.0</td>\n",
       "    </tr>\n",
       "    <tr>\n",
       "      <th>62</th>\n",
       "      <td>His Girl Friday</td>\n",
       "      <td>1940-01-18</td>\n",
       "      <td>https://www.imdb.com/title/tt0032599</td>\n",
       "      <td>0.482230</td>\n",
       "      <td>7.5</td>\n",
       "      <td>0.929944</td>\n",
       "      <td>633.5</td>\n",
       "    </tr>\n",
       "    <tr>\n",
       "      <th>23</th>\n",
       "      <td>Guys and Dolls</td>\n",
       "      <td>1955-11-03</td>\n",
       "      <td>https://www.imdb.com/title/tt0048140</td>\n",
       "      <td>0.723216</td>\n",
       "      <td>6.9</td>\n",
       "      <td>0.929944</td>\n",
       "      <td>627.0</td>\n",
       "    </tr>\n",
       "    <tr>\n",
       "      <th>90</th>\n",
       "      <td>Pane, amore e gelosia</td>\n",
       "      <td>1954-01-01</td>\n",
       "      <td>https://www.imdb.com/title/tt0047327</td>\n",
       "      <td>0.358824</td>\n",
       "      <td>8.2</td>\n",
       "      <td>0.929944</td>\n",
       "      <td>623.0</td>\n",
       "    </tr>\n",
       "    <tr>\n",
       "      <th>14</th>\n",
       "      <td>Strangers on a Train</td>\n",
       "      <td>1951-06-18</td>\n",
       "      <td>https://www.imdb.com/title/tt0044079</td>\n",
       "      <td>0.963228</td>\n",
       "      <td>7.6</td>\n",
       "      <td>0.004285</td>\n",
       "      <td>614.5</td>\n",
       "    </tr>\n",
       "    <tr>\n",
       "      <th>54</th>\n",
       "      <td>Blondie Plays Cupid</td>\n",
       "      <td>1940-10-31</td>\n",
       "      <td>https://www.imdb.com/title/tt0032262</td>\n",
       "      <td>0.540027</td>\n",
       "      <td>7.0</td>\n",
       "      <td>0.929944</td>\n",
       "      <td>608.0</td>\n",
       "    </tr>\n",
       "  </tbody>\n",
       "</table>\n",
       "</div>"
      ],
      "text/plain": [
       "                     name        date                                   url  \\\n",
       "8          Mister Roberts  1955-07-13  https://www.imdb.com/title/tt0048380   \n",
       "46     Blondie Goes Latin  1941-02-27  https://www.imdb.com/title/tt0033403   \n",
       "26            The Dentist  1932-12-09  https://www.imdb.com/title/tt0022807   \n",
       "48   Arsenic and Old Lace  1944-09-23  https://www.imdb.com/title/tt0036613   \n",
       "6       The African Queen  1951-12-03  https://www.imdb.com/title/tt0043265   \n",
       "62        His Girl Friday  1940-01-18  https://www.imdb.com/title/tt0032599   \n",
       "23         Guys and Dolls  1955-11-03  https://www.imdb.com/title/tt0048140   \n",
       "90  Pane, amore e gelosia  1954-01-01  https://www.imdb.com/title/tt0047327   \n",
       "14   Strangers on a Train  1951-06-18  https://www.imdb.com/title/tt0044079   \n",
       "54    Blondie Plays Cupid  1940-10-31  https://www.imdb.com/title/tt0032262   \n",
       "\n",
       "    ALS score  score imdb  correlation   rank  \n",
       "8    1.110368         7.3     0.929944  676.5  \n",
       "46   0.581796         8.0     0.929944  663.5  \n",
       "26   0.712673         7.1     0.929944  647.0  \n",
       "48   0.571270         7.4     0.929944  643.0  \n",
       "6    1.148694         7.4     0.274269  641.0  \n",
       "62   0.482230         7.5     0.929944  633.5  \n",
       "23   0.723216         6.9     0.929944  627.0  \n",
       "90   0.358824         8.2     0.929944  623.0  \n",
       "14   0.963228         7.6     0.004285  614.5  \n",
       "54   0.540027         7.0     0.929944  608.0  "
      ]
     },
     "execution_count": 64,
     "metadata": {},
     "output_type": "execute_result"
    }
   ],
   "source": [
    "rec_final(moviesId).to_html(f'{\" \".join(map((str), selected_genres))} {country} ALS recommendations {min_year} - {max_year}.html', encoding='utf-8', index=False, render_links=True)\n",
    "rec_final(moviesId)[:10]"
   ]
  },
  {
   "cell_type": "code",
   "execution_count": 65,
   "metadata": {},
   "outputs": [],
   "source": [
    "rec_final(popularity_movie['movieId'][:250]).to_html(f'{\" \".join(map((str), selected_genres))} {country} movies from users dataset {min_year} - {max_year}.html', encoding='utf-8', index=False, render_links=True)"
   ]
  },
  {
   "cell_type": "code",
   "execution_count": 66,
   "metadata": {},
   "outputs": [],
   "source": [
    "movies3['rank'] = movies3['vote_average'].rank() + movies3['vote_count'].rank()\n",
    "rec_final(movies3.sort_values('rank', ascending=False)['movieId'][:250])\\\n",
    ".to_html(f'{\" \".join(map((str), selected_genres))} {country} movies by score and popularity {min_year} - {max_year}.html', encoding='utf-8', index=False, render_links=True)"
   ]
  }
 ],
 "metadata": {
  "kernelspec": {
   "display_name": "Python 3 (ipykernel)",
   "language": "python",
   "name": "python3"
  },
  "language_info": {
   "codemirror_mode": {
    "name": "ipython",
    "version": 3
   },
   "file_extension": ".py",
   "mimetype": "text/x-python",
   "name": "python",
   "nbconvert_exporter": "python",
   "pygments_lexer": "ipython3",
   "version": "3.13.0"
  }
 },
 "nbformat": 4,
 "nbformat_minor": 4
}
