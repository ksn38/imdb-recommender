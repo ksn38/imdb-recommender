{
 "cells": [
  {
   "cell_type": "code",
   "execution_count": 1,
   "metadata": {},
   "outputs": [],
   "source": [
    "import pandas as pd\n",
    "import numpy as np\n",
    "import matplotlib.pyplot as plt\n",
    "import re\n",
    "%matplotlib inline"
   ]
  },
  {
   "cell_type": "code",
   "execution_count": 2,
   "metadata": {},
   "outputs": [
    {
     "name": "stdout",
     "output_type": "stream",
     "text": [
      "26024289\n"
     ]
    },
    {
     "data": {
      "text/html": [
       "<div>\n",
       "<style scoped>\n",
       "    .dataframe tbody tr th:only-of-type {\n",
       "        vertical-align: middle;\n",
       "    }\n",
       "\n",
       "    .dataframe tbody tr th {\n",
       "        vertical-align: top;\n",
       "    }\n",
       "\n",
       "    .dataframe thead th {\n",
       "        text-align: right;\n",
       "    }\n",
       "</style>\n",
       "<table border=\"1\" class=\"dataframe\">\n",
       "  <thead>\n",
       "    <tr style=\"text-align: right;\">\n",
       "      <th></th>\n",
       "      <th>userId</th>\n",
       "      <th>movieId</th>\n",
       "      <th>rating</th>\n",
       "    </tr>\n",
       "  </thead>\n",
       "  <tbody>\n",
       "    <tr>\n",
       "      <th>0</th>\n",
       "      <td>1</td>\n",
       "      <td>110</td>\n",
       "      <td>1.0</td>\n",
       "    </tr>\n",
       "    <tr>\n",
       "      <th>1</th>\n",
       "      <td>1</td>\n",
       "      <td>147</td>\n",
       "      <td>4.5</td>\n",
       "    </tr>\n",
       "  </tbody>\n",
       "</table>\n",
       "</div>"
      ],
      "text/plain": [
       "   userId  movieId  rating\n",
       "0       1      110     1.0\n",
       "1       1      147     4.5"
      ]
     },
     "execution_count": 2,
     "metadata": {},
     "output_type": "execute_result"
    }
   ],
   "source": [
    "data = pd.read_csv('data/ratings.csv')\n",
    "data.drop('timestamp', axis=1, inplace=True)\n",
    "data = data.dropna()\n",
    "data['movieId'] = data['movieId'].astype('int64')\n",
    "print(len(data))\n",
    "data.head(2)"
   ]
  },
  {
   "cell_type": "code",
   "execution_count": 3,
   "metadata": {},
   "outputs": [
    {
     "name": "stdout",
     "output_type": "stream",
     "text": [
      "45466\n"
     ]
    },
    {
     "name": "stderr",
     "output_type": "stream",
     "text": [
      "C:\\Users\\ksn\\AppData\\Local\\Temp\\ipykernel_6640\\1554198658.py:1: DtypeWarning: Columns (10) have mixed types. Specify dtype option on import or set low_memory=False.\n",
      "  movies_data = pd.read_csv('data/movies_metadata.csv')\n"
     ]
    },
    {
     "data": {
      "text/html": [
       "<div>\n",
       "<style scoped>\n",
       "    .dataframe tbody tr th:only-of-type {\n",
       "        vertical-align: middle;\n",
       "    }\n",
       "\n",
       "    .dataframe tbody tr th {\n",
       "        vertical-align: top;\n",
       "    }\n",
       "\n",
       "    .dataframe thead th {\n",
       "        text-align: right;\n",
       "    }\n",
       "</style>\n",
       "<table border=\"1\" class=\"dataframe\">\n",
       "  <thead>\n",
       "    <tr style=\"text-align: right;\">\n",
       "      <th></th>\n",
       "      <th>adult</th>\n",
       "      <th>belongs_to_collection</th>\n",
       "      <th>budget</th>\n",
       "      <th>genres</th>\n",
       "      <th>homepage</th>\n",
       "      <th>movieId</th>\n",
       "      <th>imdb_id</th>\n",
       "      <th>original_language</th>\n",
       "      <th>original_title</th>\n",
       "      <th>overview</th>\n",
       "      <th>...</th>\n",
       "      <th>release_date</th>\n",
       "      <th>revenue</th>\n",
       "      <th>runtime</th>\n",
       "      <th>spoken_languages</th>\n",
       "      <th>status</th>\n",
       "      <th>tagline</th>\n",
       "      <th>title</th>\n",
       "      <th>video</th>\n",
       "      <th>vote_average</th>\n",
       "      <th>vote_count</th>\n",
       "    </tr>\n",
       "  </thead>\n",
       "  <tbody>\n",
       "    <tr>\n",
       "      <th>0</th>\n",
       "      <td>False</td>\n",
       "      <td>{'id': 10194, 'name': 'Toy Story Collection', ...</td>\n",
       "      <td>30000000</td>\n",
       "      <td>[{'id': 16, 'name': 'Animation'}, {'id': 35, '...</td>\n",
       "      <td>http://toystory.disney.com/toy-story</td>\n",
       "      <td>862</td>\n",
       "      <td>tt0114709</td>\n",
       "      <td>en</td>\n",
       "      <td>Toy Story</td>\n",
       "      <td>Led by Woody, Andy's toys live happily in his ...</td>\n",
       "      <td>...</td>\n",
       "      <td>1995-10-30</td>\n",
       "      <td>373554033.0</td>\n",
       "      <td>81.0</td>\n",
       "      <td>[{'iso_639_1': 'en', 'name': 'English'}]</td>\n",
       "      <td>Released</td>\n",
       "      <td>NaN</td>\n",
       "      <td>Toy Story</td>\n",
       "      <td>False</td>\n",
       "      <td>7.7</td>\n",
       "      <td>5415.0</td>\n",
       "    </tr>\n",
       "    <tr>\n",
       "      <th>1</th>\n",
       "      <td>False</td>\n",
       "      <td>NaN</td>\n",
       "      <td>65000000</td>\n",
       "      <td>[{'id': 12, 'name': 'Adventure'}, {'id': 14, '...</td>\n",
       "      <td>NaN</td>\n",
       "      <td>8844</td>\n",
       "      <td>tt0113497</td>\n",
       "      <td>en</td>\n",
       "      <td>Jumanji</td>\n",
       "      <td>When siblings Judy and Peter discover an encha...</td>\n",
       "      <td>...</td>\n",
       "      <td>1995-12-15</td>\n",
       "      <td>262797249.0</td>\n",
       "      <td>104.0</td>\n",
       "      <td>[{'iso_639_1': 'en', 'name': 'English'}, {'iso...</td>\n",
       "      <td>Released</td>\n",
       "      <td>Roll the dice and unleash the excitement!</td>\n",
       "      <td>Jumanji</td>\n",
       "      <td>False</td>\n",
       "      <td>6.9</td>\n",
       "      <td>2413.0</td>\n",
       "    </tr>\n",
       "  </tbody>\n",
       "</table>\n",
       "<p>2 rows × 24 columns</p>\n",
       "</div>"
      ],
      "text/plain": [
       "   adult                              belongs_to_collection    budget  \\\n",
       "0  False  {'id': 10194, 'name': 'Toy Story Collection', ...  30000000   \n",
       "1  False                                                NaN  65000000   \n",
       "\n",
       "                                              genres  \\\n",
       "0  [{'id': 16, 'name': 'Animation'}, {'id': 35, '...   \n",
       "1  [{'id': 12, 'name': 'Adventure'}, {'id': 14, '...   \n",
       "\n",
       "                               homepage movieId    imdb_id original_language  \\\n",
       "0  http://toystory.disney.com/toy-story     862  tt0114709                en   \n",
       "1                                   NaN    8844  tt0113497                en   \n",
       "\n",
       "  original_title                                           overview  ...  \\\n",
       "0      Toy Story  Led by Woody, Andy's toys live happily in his ...  ...   \n",
       "1        Jumanji  When siblings Judy and Peter discover an encha...  ...   \n",
       "\n",
       "  release_date      revenue runtime  \\\n",
       "0   1995-10-30  373554033.0    81.0   \n",
       "1   1995-12-15  262797249.0   104.0   \n",
       "\n",
       "                                    spoken_languages    status  \\\n",
       "0           [{'iso_639_1': 'en', 'name': 'English'}]  Released   \n",
       "1  [{'iso_639_1': 'en', 'name': 'English'}, {'iso...  Released   \n",
       "\n",
       "                                     tagline      title  video vote_average  \\\n",
       "0                                        NaN  Toy Story  False          7.7   \n",
       "1  Roll the dice and unleash the excitement!    Jumanji  False          6.9   \n",
       "\n",
       "  vote_count  \n",
       "0     5415.0  \n",
       "1     2413.0  \n",
       "\n",
       "[2 rows x 24 columns]"
      ]
     },
     "execution_count": 3,
     "metadata": {},
     "output_type": "execute_result"
    }
   ],
   "source": [
    "movies_data = pd.read_csv('data/movies_metadata.csv')\n",
    "movies_data = movies_data.rename(columns={\"id\": \"movieId\"})\n",
    "print(len(movies_data))\n",
    "movies_data.head(2)"
   ]
  },
  {
   "cell_type": "code",
   "execution_count": 4,
   "metadata": {},
   "outputs": [],
   "source": [
    "movies = movies_data.copy()\n",
    "\n",
    "for i in movies_data.index:\n",
    "    if re.findall('-', movies_data.iloc[i]['movieId']):\n",
    "        movies.drop(i, inplace=True)\n",
    "\n",
    "movies['movieId'] = movies['movieId'].astype('int64')"
   ]
  },
  {
   "cell_type": "code",
   "execution_count": 5,
   "metadata": {},
   "outputs": [
    {
     "name": "stdout",
     "output_type": "stream",
     "text": [
      "114\n"
     ]
    },
    {
     "data": {
      "text/html": [
       "<div>\n",
       "<style scoped>\n",
       "    .dataframe tbody tr th:only-of-type {\n",
       "        vertical-align: middle;\n",
       "    }\n",
       "\n",
       "    .dataframe tbody tr th {\n",
       "        vertical-align: top;\n",
       "    }\n",
       "\n",
       "    .dataframe thead th {\n",
       "        text-align: right;\n",
       "    }\n",
       "</style>\n",
       "<table border=\"1\" class=\"dataframe\">\n",
       "  <thead>\n",
       "    <tr style=\"text-align: right;\">\n",
       "      <th></th>\n",
       "      <th>imdb_id</th>\n",
       "      <th>rating</th>\n",
       "      <th>Date Rated</th>\n",
       "      <th>Title</th>\n",
       "      <th>URL</th>\n",
       "      <th>Title Type</th>\n",
       "      <th>IMDb Rating</th>\n",
       "      <th>Runtime (mins)</th>\n",
       "      <th>Year</th>\n",
       "      <th>Genres</th>\n",
       "      <th>Num Votes</th>\n",
       "      <th>Release Date</th>\n",
       "      <th>Directors</th>\n",
       "    </tr>\n",
       "  </thead>\n",
       "  <tbody>\n",
       "    <tr>\n",
       "      <th>0</th>\n",
       "      <td>tt1014759</td>\n",
       "      <td>9</td>\n",
       "      <td>2023-12-21</td>\n",
       "      <td>Alice in Wonderland</td>\n",
       "      <td>https://www.imdb.com/title/tt1014759/</td>\n",
       "      <td>movie</td>\n",
       "      <td>6.4</td>\n",
       "      <td>108</td>\n",
       "      <td>2010</td>\n",
       "      <td>Adventure, Family, Fantasy, Mystery</td>\n",
       "      <td>434878</td>\n",
       "      <td>2010-02-25</td>\n",
       "      <td>Tim Burton</td>\n",
       "    </tr>\n",
       "    <tr>\n",
       "      <th>1</th>\n",
       "      <td>tt0103639</td>\n",
       "      <td>9</td>\n",
       "      <td>2023-12-14</td>\n",
       "      <td>Aladdin</td>\n",
       "      <td>https://www.imdb.com/title/tt0103639/</td>\n",
       "      <td>movie</td>\n",
       "      <td>8.0</td>\n",
       "      <td>90</td>\n",
       "      <td>1992</td>\n",
       "      <td>Animation, Adventure, Comedy, Family, Fantasy,...</td>\n",
       "      <td>455642</td>\n",
       "      <td>1992-11-08</td>\n",
       "      <td>Ron Clements, John Musker</td>\n",
       "    </tr>\n",
       "  </tbody>\n",
       "</table>\n",
       "</div>"
      ],
      "text/plain": [
       "     imdb_id  rating  Date Rated                Title  \\\n",
       "0  tt1014759       9  2023-12-21  Alice in Wonderland   \n",
       "1  tt0103639       9  2023-12-14              Aladdin   \n",
       "\n",
       "                                     URL Title Type  IMDb Rating  \\\n",
       "0  https://www.imdb.com/title/tt1014759/      movie          6.4   \n",
       "1  https://www.imdb.com/title/tt0103639/      movie          8.0   \n",
       "\n",
       "   Runtime (mins)  Year                                             Genres  \\\n",
       "0             108  2010                Adventure, Family, Fantasy, Mystery   \n",
       "1              90  1992  Animation, Adventure, Comedy, Family, Fantasy,...   \n",
       "\n",
       "   Num Votes Release Date                  Directors  \n",
       "0     434878   2010-02-25                 Tim Burton  \n",
       "1     455642   1992-11-08  Ron Clements, John Musker  "
      ]
     },
     "execution_count": 5,
     "metadata": {},
     "output_type": "execute_result"
    }
   ],
   "source": [
    "my_ratings = pd.read_csv('ratings.csv')\n",
    "print(len(my_ratings))\n",
    "my_ratings = my_ratings.rename(columns={\"Const\": \"imdb_id\", \"Your Rating\": \"rating\"})\n",
    "my_ratings.head(2)"
   ]
  },
  {
   "cell_type": "code",
   "execution_count": 6,
   "metadata": {},
   "outputs": [
    {
     "data": {
      "text/html": [
       "<div>\n",
       "<style scoped>\n",
       "    .dataframe tbody tr th:only-of-type {\n",
       "        vertical-align: middle;\n",
       "    }\n",
       "\n",
       "    .dataframe tbody tr th {\n",
       "        vertical-align: top;\n",
       "    }\n",
       "\n",
       "    .dataframe thead th {\n",
       "        text-align: right;\n",
       "    }\n",
       "</style>\n",
       "<table border=\"1\" class=\"dataframe\">\n",
       "  <thead>\n",
       "    <tr style=\"text-align: right;\">\n",
       "      <th></th>\n",
       "      <th>rating</th>\n",
       "      <th>userId</th>\n",
       "      <th>movieId</th>\n",
       "    </tr>\n",
       "    <tr>\n",
       "      <th>movieId</th>\n",
       "      <th></th>\n",
       "      <th></th>\n",
       "      <th></th>\n",
       "    </tr>\n",
       "  </thead>\n",
       "  <tbody>\n",
       "    <tr>\n",
       "      <th>12155.0</th>\n",
       "      <td>9</td>\n",
       "      <td>400000</td>\n",
       "      <td>12155.0</td>\n",
       "    </tr>\n",
       "    <tr>\n",
       "      <th>812.0</th>\n",
       "      <td>9</td>\n",
       "      <td>400000</td>\n",
       "      <td>812.0</td>\n",
       "    </tr>\n",
       "  </tbody>\n",
       "</table>\n",
       "</div>"
      ],
      "text/plain": [
       "         rating  userId  movieId\n",
       "movieId                         \n",
       "12155.0       9  400000  12155.0\n",
       "812.0         9  400000    812.0"
      ]
     },
     "execution_count": 6,
     "metadata": {},
     "output_type": "execute_result"
    }
   ],
   "source": [
    "my = my_ratings[['imdb_id', 'rating']].copy()\n",
    "my['userId'] = 400000\n",
    "ids = movies[['movieId', 'imdb_id']]\n",
    "my = my.merge(ids, how='left', on='imdb_id')\n",
    "my.drop('imdb_id', axis=1, inplace=True)\n",
    "my.index = my['movieId']\n",
    "my.head(2)"
   ]
  },
  {
   "cell_type": "markdown",
   "metadata": {},
   "source": [
    "delete movies from the data that are not in the table 'movies'"
   ]
  },
  {
   "cell_type": "code",
   "execution_count": 7,
   "metadata": {},
   "outputs": [
    {
     "data": {
      "text/plain": [
       "11436568"
      ]
     },
     "execution_count": 7,
     "metadata": {},
     "output_type": "execute_result"
    }
   ],
   "source": [
    "delta = set(data['movieId']) - set(movies['movieId'])\n",
    "data_train = data.loc[~data['movieId'].isin(delta)]\n",
    "len(data_train)"
   ]
  },
  {
   "cell_type": "code",
   "execution_count": 8,
   "metadata": {},
   "outputs": [
    {
     "data": {
      "text/html": [
       "<div>\n",
       "<style scoped>\n",
       "    .dataframe tbody tr th:only-of-type {\n",
       "        vertical-align: middle;\n",
       "    }\n",
       "\n",
       "    .dataframe tbody tr th {\n",
       "        vertical-align: top;\n",
       "    }\n",
       "\n",
       "    .dataframe thead th {\n",
       "        text-align: right;\n",
       "    }\n",
       "</style>\n",
       "<table border=\"1\" class=\"dataframe\">\n",
       "  <thead>\n",
       "    <tr style=\"text-align: right;\">\n",
       "      <th></th>\n",
       "      <th>Documentary</th>\n",
       "      <th>War</th>\n",
       "      <th>Drama</th>\n",
       "      <th>Animation</th>\n",
       "      <th>Comedy</th>\n",
       "      <th>Romance</th>\n",
       "      <th>Mystery</th>\n",
       "      <th>Horror</th>\n",
       "      <th>Crime</th>\n",
       "      <th>TV</th>\n",
       "      <th>Adventure</th>\n",
       "      <th>Science</th>\n",
       "      <th>Family</th>\n",
       "      <th>Music</th>\n",
       "      <th>Action</th>\n",
       "      <th>Western</th>\n",
       "      <th>Thriller</th>\n",
       "      <th>Fantasy</th>\n",
       "    </tr>\n",
       "    <tr>\n",
       "      <th>movieId</th>\n",
       "      <th></th>\n",
       "      <th></th>\n",
       "      <th></th>\n",
       "      <th></th>\n",
       "      <th></th>\n",
       "      <th></th>\n",
       "      <th></th>\n",
       "      <th></th>\n",
       "      <th></th>\n",
       "      <th></th>\n",
       "      <th></th>\n",
       "      <th></th>\n",
       "      <th></th>\n",
       "      <th></th>\n",
       "      <th></th>\n",
       "      <th></th>\n",
       "      <th></th>\n",
       "      <th></th>\n",
       "    </tr>\n",
       "  </thead>\n",
       "  <tbody>\n",
       "    <tr>\n",
       "      <th>862</th>\n",
       "      <td>0</td>\n",
       "      <td>0</td>\n",
       "      <td>0</td>\n",
       "      <td>1</td>\n",
       "      <td>0</td>\n",
       "      <td>0</td>\n",
       "      <td>0</td>\n",
       "      <td>0</td>\n",
       "      <td>0</td>\n",
       "      <td>0</td>\n",
       "      <td>0</td>\n",
       "      <td>0</td>\n",
       "      <td>0</td>\n",
       "      <td>0</td>\n",
       "      <td>0</td>\n",
       "      <td>0</td>\n",
       "      <td>0</td>\n",
       "      <td>0</td>\n",
       "    </tr>\n",
       "    <tr>\n",
       "      <th>8844</th>\n",
       "      <td>0</td>\n",
       "      <td>0</td>\n",
       "      <td>0</td>\n",
       "      <td>0</td>\n",
       "      <td>0</td>\n",
       "      <td>0</td>\n",
       "      <td>0</td>\n",
       "      <td>0</td>\n",
       "      <td>0</td>\n",
       "      <td>0</td>\n",
       "      <td>1</td>\n",
       "      <td>0</td>\n",
       "      <td>0</td>\n",
       "      <td>0</td>\n",
       "      <td>0</td>\n",
       "      <td>0</td>\n",
       "      <td>0</td>\n",
       "      <td>0</td>\n",
       "    </tr>\n",
       "    <tr>\n",
       "      <th>15602</th>\n",
       "      <td>0</td>\n",
       "      <td>0</td>\n",
       "      <td>0</td>\n",
       "      <td>0</td>\n",
       "      <td>0</td>\n",
       "      <td>1</td>\n",
       "      <td>0</td>\n",
       "      <td>0</td>\n",
       "      <td>0</td>\n",
       "      <td>0</td>\n",
       "      <td>0</td>\n",
       "      <td>0</td>\n",
       "      <td>0</td>\n",
       "      <td>0</td>\n",
       "      <td>0</td>\n",
       "      <td>0</td>\n",
       "      <td>0</td>\n",
       "      <td>0</td>\n",
       "    </tr>\n",
       "  </tbody>\n",
       "</table>\n",
       "</div>"
      ],
      "text/plain": [
       "         Documentary  War  Drama  Animation  Comedy  Romance  Mystery  Horror  \\\n",
       "movieId                                                                         \n",
       "862                0    0      0          1       0        0        0       0   \n",
       "8844               0    0      0          0       0        0        0       0   \n",
       "15602              0    0      0          0       0        1        0       0   \n",
       "\n",
       "         Crime  TV  Adventure  Science  Family  Music  Action  Western  \\\n",
       "movieId                                                                  \n",
       "862          0   0          0        0       0      0       0        0   \n",
       "8844         0   0          1        0       0      0       0        0   \n",
       "15602        0   0          0        0       0      0       0        0   \n",
       "\n",
       "         Thriller  Fantasy  \n",
       "movieId                     \n",
       "862             0        0  \n",
       "8844            0        0  \n",
       "15602           0        0  "
      ]
     },
     "execution_count": 8,
     "metadata": {},
     "output_type": "execute_result"
    }
   ],
   "source": [
    "genres = []\n",
    "\n",
    "for i in range(len(movies)):\n",
    "    genres.extend(list(map(lambda x: x[9:], re.findall(\"'name': '\\w*\", movies.iloc[i]['genres']))))\n",
    "\n",
    "colms = list(set(genres))\n",
    "\n",
    "df_genres = pd.DataFrame(columns=colms)\n",
    "df_genres['movieId'] = movies['movieId']\n",
    "df_genres = df_genres.fillna(0)\n",
    "df_genres.index = df_genres['movieId']\n",
    "df_genres.drop('movieId', axis=1, inplace=True)\n",
    "\n",
    "for i in df_genres.index:\n",
    "    genres = list(map(lambda x: x[9:], re.findall(\"'name': '\\w*\", str(movies.loc[movies['movieId'] == i]['genres']))))\n",
    "    for j in genres:\n",
    "        df_genres.at[i, j] = 1\n",
    "\n",
    "sum_col = [sum(df_genres[i]) for i in df_genres.columns]\n",
    "\n",
    "for i in df_genres.columns:\n",
    "    if sum(df_genres[i]) < np.percentile(np.array(sum_col), 10):\n",
    "        try:\n",
    "            df_genres.drop(i, axis=1, inplace=True)\n",
    "        except KeyError:\n",
    "            pass\n",
    "\n",
    "df_genres.head(3)"
   ]
  },
  {
   "cell_type": "markdown",
   "metadata": {},
   "source": [
    "limit by years"
   ]
  },
  {
   "cell_type": "code",
   "execution_count": 9,
   "metadata": {},
   "outputs": [
    {
     "data": {
      "text/plain": [
       "11170809"
      ]
     },
     "execution_count": 9,
     "metadata": {},
     "output_type": "execute_result"
    }
   ],
   "source": [
    "max_year = 2222\n",
    "min_year = 1930\n",
    "\n",
    "movieId = []\n",
    "year = []\n",
    "\n",
    "for i in movies['movieId']:\n",
    "    movieId.append(i)\n",
    "    try:\n",
    "        year.append(int(re.findall('[0-9]{4}-', str(movies.loc[movies['movieId'] == i]['release_date']))[0][0:4]))\n",
    "    except IndexError:\n",
    "        year.append(9999)\n",
    "\n",
    "df_year = pd.DataFrame({'movieId': movieId, 'year': year})\n",
    "df_year = df_year.loc[(df_year['year'] < max_year)&(df_year['year'] > min_year)]\n",
    "\n",
    "data_train = data_train.loc[data_train['movieId'].isin(df_year['movieId'])]\n",
    "my = my.loc[my['movieId'].isin(df_year['movieId'])]\n",
    "len(data_train)"
   ]
  },
  {
   "cell_type": "markdown",
   "metadata": {},
   "source": [
    "### reducing amount of data"
   ]
  },
  {
   "cell_type": "code",
   "execution_count": 10,
   "metadata": {},
   "outputs": [
    {
     "data": {
      "text/html": [
       "<div>\n",
       "<style scoped>\n",
       "    .dataframe tbody tr th:only-of-type {\n",
       "        vertical-align: middle;\n",
       "    }\n",
       "\n",
       "    .dataframe tbody tr th {\n",
       "        vertical-align: top;\n",
       "    }\n",
       "\n",
       "    .dataframe thead th {\n",
       "        text-align: right;\n",
       "    }\n",
       "</style>\n",
       "<table border=\"1\" class=\"dataframe\">\n",
       "  <thead>\n",
       "    <tr style=\"text-align: right;\">\n",
       "      <th></th>\n",
       "      <th>movieId</th>\n",
       "      <th>rating_rank</th>\n",
       "    </tr>\n",
       "  </thead>\n",
       "  <tbody>\n",
       "    <tr>\n",
       "      <th>250</th>\n",
       "      <td>318</td>\n",
       "      <td>7349.0</td>\n",
       "    </tr>\n",
       "    <tr>\n",
       "      <th>230</th>\n",
       "      <td>296</td>\n",
       "      <td>7348.0</td>\n",
       "    </tr>\n",
       "    <tr>\n",
       "      <th>440</th>\n",
       "      <td>593</td>\n",
       "      <td>7347.0</td>\n",
       "    </tr>\n",
       "  </tbody>\n",
       "</table>\n",
       "</div>"
      ],
      "text/plain": [
       "     movieId  rating_rank\n",
       "250      318       7349.0\n",
       "230      296       7348.0\n",
       "440      593       7347.0"
      ]
     },
     "execution_count": 10,
     "metadata": {},
     "output_type": "execute_result"
    }
   ],
   "source": [
    "popularity_movie = data_train.groupby('movieId')['rating'].count().reset_index().sort_values('rating', ascending=False)\n",
    "popularity_movie['rating_rank'] = popularity_movie['rating'].rank()\n",
    "popularity_movie.drop('rating', axis=1, inplace=True)\n",
    "popularity_movie.head(3)"
   ]
  },
  {
   "cell_type": "code",
   "execution_count": 11,
   "metadata": {},
   "outputs": [],
   "source": [
    "data_train = pd.merge(data_train, popularity_movie, how='left', on='movieId')"
   ]
  },
  {
   "cell_type": "code",
   "execution_count": 12,
   "metadata": {},
   "outputs": [
    {
     "data": {
      "text/html": [
       "<div>\n",
       "<style scoped>\n",
       "    .dataframe tbody tr th:only-of-type {\n",
       "        vertical-align: middle;\n",
       "    }\n",
       "\n",
       "    .dataframe tbody tr th {\n",
       "        vertical-align: top;\n",
       "    }\n",
       "\n",
       "    .dataframe thead th {\n",
       "        text-align: right;\n",
       "    }\n",
       "</style>\n",
       "<table border=\"1\" class=\"dataframe\">\n",
       "  <thead>\n",
       "    <tr style=\"text-align: right;\">\n",
       "      <th></th>\n",
       "      <th>userId</th>\n",
       "      <th>rating_rank</th>\n",
       "    </tr>\n",
       "  </thead>\n",
       "  <tbody>\n",
       "    <tr>\n",
       "      <th>0</th>\n",
       "      <td>8659</td>\n",
       "      <td>15530502.5</td>\n",
       "    </tr>\n",
       "    <tr>\n",
       "      <th>1</th>\n",
       "      <td>45811</td>\n",
       "      <td>15090942.0</td>\n",
       "    </tr>\n",
       "    <tr>\n",
       "      <th>2</th>\n",
       "      <td>179792</td>\n",
       "      <td>14401254.0</td>\n",
       "    </tr>\n",
       "  </tbody>\n",
       "</table>\n",
       "</div>"
      ],
      "text/plain": [
       "   userId  rating_rank\n",
       "0    8659   15530502.5\n",
       "1   45811   15090942.0\n",
       "2  179792   14401254.0"
      ]
     },
     "execution_count": 12,
     "metadata": {},
     "output_type": "execute_result"
    }
   ],
   "source": [
    "user_sum_rating = data_train.groupby('userId')['rating_rank'].sum().reset_index().sort_values('rating_rank', ascending=False).reset_index(drop=True)\n",
    "user_sum_rating.head(3)"
   ]
  },
  {
   "cell_type": "code",
   "execution_count": 13,
   "metadata": {},
   "outputs": [
    {
     "data": {
      "text/html": [
       "<div>\n",
       "<style scoped>\n",
       "    .dataframe tbody tr th:only-of-type {\n",
       "        vertical-align: middle;\n",
       "    }\n",
       "\n",
       "    .dataframe tbody tr th {\n",
       "        vertical-align: top;\n",
       "    }\n",
       "\n",
       "    .dataframe thead th {\n",
       "        text-align: right;\n",
       "    }\n",
       "</style>\n",
       "<table border=\"1\" class=\"dataframe\">\n",
       "  <thead>\n",
       "    <tr style=\"text-align: right;\">\n",
       "      <th></th>\n",
       "      <th>userId</th>\n",
       "      <th>rating_rank</th>\n",
       "    </tr>\n",
       "  </thead>\n",
       "  <tbody>\n",
       "    <tr>\n",
       "      <th>0</th>\n",
       "      <td>45811</td>\n",
       "      <td>3507</td>\n",
       "    </tr>\n",
       "    <tr>\n",
       "      <th>1</th>\n",
       "      <td>8659</td>\n",
       "      <td>2966</td>\n",
       "    </tr>\n",
       "    <tr>\n",
       "      <th>2</th>\n",
       "      <td>179792</td>\n",
       "      <td>2527</td>\n",
       "    </tr>\n",
       "  </tbody>\n",
       "</table>\n",
       "</div>"
      ],
      "text/plain": [
       "   userId  rating_rank\n",
       "0   45811         3507\n",
       "1    8659         2966\n",
       "2  179792         2527"
      ]
     },
     "execution_count": 13,
     "metadata": {},
     "output_type": "execute_result"
    }
   ],
   "source": [
    "user_count_rating = data_train.groupby('userId')['rating_rank'].count().reset_index().sort_values('rating_rank', ascending=False).reset_index(drop=True)\n",
    "user_count_rating.head(3)"
   ]
  },
  {
   "cell_type": "code",
   "execution_count": 14,
   "metadata": {},
   "outputs": [
    {
     "data": {
      "text/html": [
       "<div>\n",
       "<style scoped>\n",
       "    .dataframe tbody tr th:only-of-type {\n",
       "        vertical-align: middle;\n",
       "    }\n",
       "\n",
       "    .dataframe tbody tr th {\n",
       "        vertical-align: top;\n",
       "    }\n",
       "\n",
       "    .dataframe thead th {\n",
       "        text-align: right;\n",
       "    }\n",
       "</style>\n",
       "<table border=\"1\" class=\"dataframe\">\n",
       "  <thead>\n",
       "    <tr style=\"text-align: right;\">\n",
       "      <th></th>\n",
       "      <th>userId</th>\n",
       "      <th>rating_rank</th>\n",
       "    </tr>\n",
       "  </thead>\n",
       "  <tbody>\n",
       "    <tr>\n",
       "      <th>0</th>\n",
       "      <td>8659</td>\n",
       "      <td>5236.177512</td>\n",
       "    </tr>\n",
       "    <tr>\n",
       "      <th>1</th>\n",
       "      <td>45811</td>\n",
       "      <td>4303.091531</td>\n",
       "    </tr>\n",
       "    <tr>\n",
       "      <th>2</th>\n",
       "      <td>179792</td>\n",
       "      <td>5698.952909</td>\n",
       "    </tr>\n",
       "  </tbody>\n",
       "</table>\n",
       "</div>"
      ],
      "text/plain": [
       "   userId  rating_rank\n",
       "0    8659  5236.177512\n",
       "1   45811  4303.091531\n",
       "2  179792  5698.952909"
      ]
     },
     "execution_count": 14,
     "metadata": {},
     "output_type": "execute_result"
    }
   ],
   "source": [
    "user_rating = pd.merge(user_sum_rating, user_count_rating, how='left', on='userId')\n",
    "user_rating['rating_rank'] = user_rating['rating_rank_x']/user_rating['rating_rank_y']\n",
    "user_rating.drop(['rating_rank_x', 'rating_rank_y'], axis=1, inplace=True)\n",
    "user_rating.head(3)"
   ]
  },
  {
   "cell_type": "code",
   "execution_count": 15,
   "metadata": {},
   "outputs": [
    {
     "data": {
      "image/png": "[encoded data removed]",
      "text/plain": [
       "<Figure size 640x480 with 1 Axes>"
      ]
     },
     "metadata": {},
     "output_type": "display_data"
    }
   ],
   "source": [
    "plt.boxplot(user_rating['rating_rank'], vert=False)\n",
    "plt.show()"
   ]
  },
  {
   "cell_type": "markdown",
   "metadata": {},
   "source": [
    "selected interquartile range "
   ]
  },
  {
   "cell_type": "code",
   "execution_count": 16,
   "metadata": {},
   "outputs": [
    {
     "name": "stdout",
     "output_type": "stream",
     "text": [
      "Q1=6748.7190923317685, Q3=7121.240376740377\n"
     ]
    },
    {
     "data": {
      "image/png": "[encoded data removed]",
      "text/plain": [
       "<Figure size 640x480 with 1 Axes>"
      ]
     },
     "metadata": {},
     "output_type": "display_data"
    }
   ],
   "source": [
    "Q1 = user_rating['rating_rank'].quantile(0.1)\n",
    "Q3 = user_rating['rating_rank'].quantile(0.6)\n",
    "print(f'Q1={Q1}, Q3={Q3}')\n",
    "user_rating_iqr = user_rating.loc[(user_rating['rating_rank'] < Q3) & (user_rating['rating_rank'] > Q1)]\n",
    "user_list = user_rating_iqr['userId'].tolist()\n",
    "plt.boxplot(user_rating_iqr['rating_rank'], vert=False)\n",
    "plt.show()"
   ]
  },
  {
   "cell_type": "code",
   "execution_count": 17,
   "metadata": {},
   "outputs": [
    {
     "data": {
      "text/plain": [
       "6846283"
      ]
     },
     "execution_count": 17,
     "metadata": {},
     "output_type": "execute_result"
    }
   ],
   "source": [
    "data_train = data_train.loc[data_train['userId'].isin(user_list)]\n",
    "data_train.drop('rating_rank', axis=1, inplace=True)\n",
    "data_train = pd.concat([data_train, my], ignore_index=True)\n",
    "len(data_train)"
   ]
  },
  {
   "cell_type": "code",
   "execution_count": 18,
   "metadata": {
    "scrolled": true
   },
   "outputs": [
    {
     "name": "stderr",
     "output_type": "stream",
     "text": [
      "C:\\Python311\\Lib\\site-packages\\tqdm\\auto.py:21: TqdmWarning: IProgress not found. Please update jupyter and ipywidgets. See https://ipywidgets.readthedocs.io/en/stable/user_install.html\n",
      "  from .autonotebook import tqdm as notebook_tqdm\n",
      "C:\\Python311\\Lib\\site-packages\\implicit\\cpu\\als.py:95: RuntimeWarning: OpenBLAS is configured to use 12 threads. It is highly recommended to disable its internal threadpool by setting the environment variable 'OPENBLAS_NUM_THREADS=1' or by calling 'threadpoolctl.threadpool_limits(1, \"blas\")'. Having OpenBLAS use a threadpool can lead to severe performance issues here.\n",
      "  check_blas_config()\n",
      "100%|██████████████████████████████████████████████████████████████████████████████████| 20/20 [02:17<00:00,  6.87s/it]\n"
     ]
    }
   ],
   "source": [
    "import implicit\n",
    "from scipy.sparse import csr_matrix\n",
    "\n",
    "# initialize a model\n",
    "model = implicit.als.AlternatingLeastSquares(factors=100,\n",
    "                                        regularization=0.05, \n",
    "                                        alpha=2.0,\n",
    "                                        iterations=20,\n",
    "                                        random_state=38)\n",
    "\n",
    "# train the model on a sparse matrix of user/item/confidence weights\n",
    "user_item_matrix = pd.pivot_table(data_train,\n",
    "                                  index='userId', columns='movieId',\n",
    "                                  values='rating',\n",
    "                                  fill_value=0)\n",
    "\n",
    "# scipy resets indexes\n",
    "idALS_movieId = dict((i, j) for i, j in enumerate(user_item_matrix.columns))\n",
    "\n",
    "user_item_matrix = user_item_matrix.astype(float)\n",
    "user_item_matrix_csr = csr_matrix(user_item_matrix).tocsr()\n",
    "\n",
    "model.fit(user_item_matrix_csr)"
   ]
  },
  {
   "cell_type": "code",
   "execution_count": 19,
   "metadata": {},
   "outputs": [],
   "source": [
    "from implicit.nearest_neighbours import bm25_weight\n",
    "\n",
    "# weight the matrix, both to reduce impact of users that have played the same artist thousands of times\n",
    "# and to reduce the weight given to popular items\n",
    "#user_item_matrix_csr = bm25_weight(user_item_matrix_csr, K1=100, B=0.8)"
   ]
  },
  {
   "cell_type": "code",
   "execution_count": 20,
   "metadata": {},
   "outputs": [],
   "source": [
    "id_score = model.recommend(-1, user_item_matrix_csr[-1], N=250, filter_already_liked_items=True)\n",
    "moviesId = [idALS_movieId[i] for i in id_score[0]]\n",
    "ALScore = dict((i, j) for i, j in zip(moviesId, id_score[1]))"
   ]
  },
  {
   "cell_type": "code",
   "execution_count": 21,
   "metadata": {},
   "outputs": [],
   "source": [
    "my_genres = df_genres[df_genres.index.isin(my.index)].mean().values\n",
    "\n",
    "def rec_final(rec):\n",
    "    name = []\n",
    "    date = []\n",
    "    url = []\n",
    "    als_score = []\n",
    "    score_imdb = []\n",
    "    corr = []\n",
    "\n",
    "    for i in rec:\n",
    "        if i not in my.index:\n",
    "            try:\n",
    "                name.append(movies.loc[movies['movieId'] == i]['original_title'].values[0])\n",
    "                date.append(movies.loc[movies['movieId'] == i]['release_date'].values[0])\n",
    "                url.append('https://www.imdb.com/title/' + str(movies.loc[movies['movieId'] == i]['imdb_id'].values[0]))\n",
    "                if type(rec) == list:\n",
    "                    als_score.append(ALScore[i])\n",
    "                score_imdb.append(movies.loc[movies['movieId'] == i]['vote_average'].values[0])\n",
    "                corr.append(0)\n",
    "                if sum(df_genres.iloc[int(i)]) != 0:\n",
    "                    corr[-1] = (np.corrcoef(my_genres, df_genres.iloc[int(i)])[0, 1])\n",
    "            except IndexError:\n",
    "                pass\n",
    "\n",
    "    df =  pd.DataFrame({'name': name, 'date': date, 'url': url, 'score imdb': score_imdb, 'correlation': corr}).drop_duplicates()\n",
    "    df['rank'] = df['score imdb'].rank() + df['correlation'].rank()\n",
    "    df = df.sort_values('rank', ascending=False)\n",
    "    if type(rec) == list:\n",
    "        df =  pd.DataFrame({'name': name, 'date': date, 'url': url, 'ALS score': als_score, 'score imdb': score_imdb, 'correlation': corr}).\\\n",
    "        drop_duplicates()\n",
    "        df['rank'] = df['score imdb'].rank() + df['ALS score'].rank() + df['correlation'].rank()\n",
    "        df = df.sort_values('rank', ascending=False)\n",
    "    return df"
   ]
  },
  {
   "cell_type": "code",
   "execution_count": 22,
   "metadata": {},
   "outputs": [
    {
     "data": {
      "text/html": [
       "<div>\n",
       "<style scoped>\n",
       "    .dataframe tbody tr th:only-of-type {\n",
       "        vertical-align: middle;\n",
       "    }\n",
       "\n",
       "    .dataframe tbody tr th {\n",
       "        vertical-align: top;\n",
       "    }\n",
       "\n",
       "    .dataframe thead th {\n",
       "        text-align: right;\n",
       "    }\n",
       "</style>\n",
       "<table border=\"1\" class=\"dataframe\">\n",
       "  <thead>\n",
       "    <tr style=\"text-align: right;\">\n",
       "      <th></th>\n",
       "      <th>name</th>\n",
       "      <th>date</th>\n",
       "      <th>url</th>\n",
       "      <th>ALS score</th>\n",
       "      <th>score imdb</th>\n",
       "      <th>correlation</th>\n",
       "      <th>rank</th>\n",
       "    </tr>\n",
       "  </thead>\n",
       "  <tbody>\n",
       "    <tr>\n",
       "      <th>5</th>\n",
       "      <td>The Wrong Trousers</td>\n",
       "      <td>1993-12-17</td>\n",
       "      <td>https://www.imdb.com/title/tt0108598</td>\n",
       "      <td>0.897593</td>\n",
       "      <td>7.6</td>\n",
       "      <td>0.713906</td>\n",
       "      <td>682.0</td>\n",
       "    </tr>\n",
       "    <tr>\n",
       "      <th>30</th>\n",
       "      <td>The Endless Summer</td>\n",
       "      <td>1966-06-15</td>\n",
       "      <td>https://www.imdb.com/title/tt0060371</td>\n",
       "      <td>0.723743</td>\n",
       "      <td>7.8</td>\n",
       "      <td>0.713906</td>\n",
       "      <td>673.5</td>\n",
       "    </tr>\n",
       "    <tr>\n",
       "      <th>40</th>\n",
       "      <td>Taxi Driver</td>\n",
       "      <td>1976-02-07</td>\n",
       "      <td>https://www.imdb.com/title/tt0075314</td>\n",
       "      <td>0.668521</td>\n",
       "      <td>8.1</td>\n",
       "      <td>0.713906</td>\n",
       "      <td>673.5</td>\n",
       "    </tr>\n",
       "    <tr>\n",
       "      <th>24</th>\n",
       "      <td>Catch Me If You Can</td>\n",
       "      <td>2002-12-25</td>\n",
       "      <td>https://www.imdb.com/title/tt0264464</td>\n",
       "      <td>0.735811</td>\n",
       "      <td>7.7</td>\n",
       "      <td>0.713906</td>\n",
       "      <td>671.5</td>\n",
       "    </tr>\n",
       "    <tr>\n",
       "      <th>11</th>\n",
       "      <td>Superstar: The Karen Carpenter Story</td>\n",
       "      <td>1988-04-30</td>\n",
       "      <td>https://www.imdb.com/title/tt0094075</td>\n",
       "      <td>0.832676</td>\n",
       "      <td>7.5</td>\n",
       "      <td>0.713906</td>\n",
       "      <td>666.0</td>\n",
       "    </tr>\n",
       "    <tr>\n",
       "      <th>19</th>\n",
       "      <td>Angst essen Seele auf</td>\n",
       "      <td>1974-03-05</td>\n",
       "      <td>https://www.imdb.com/title/tt0071141</td>\n",
       "      <td>0.770466</td>\n",
       "      <td>7.5</td>\n",
       "      <td>0.713906</td>\n",
       "      <td>658.0</td>\n",
       "    </tr>\n",
       "    <tr>\n",
       "      <th>59</th>\n",
       "      <td>Det sjunde inseglet</td>\n",
       "      <td>1957-02-16</td>\n",
       "      <td>https://www.imdb.com/title/tt0050976</td>\n",
       "      <td>0.627351</td>\n",
       "      <td>7.9</td>\n",
       "      <td>0.713906</td>\n",
       "      <td>650.5</td>\n",
       "    </tr>\n",
       "    <tr>\n",
       "      <th>89</th>\n",
       "      <td>The Shawshank Redemption</td>\n",
       "      <td>1994-09-23</td>\n",
       "      <td>https://www.imdb.com/title/tt0111161</td>\n",
       "      <td>0.558544</td>\n",
       "      <td>8.5</td>\n",
       "      <td>0.713906</td>\n",
       "      <td>630.5</td>\n",
       "    </tr>\n",
       "    <tr>\n",
       "      <th>85</th>\n",
       "      <td>The Pianist</td>\n",
       "      <td>2002-09-24</td>\n",
       "      <td>https://www.imdb.com/title/tt0253474</td>\n",
       "      <td>0.566528</td>\n",
       "      <td>8.1</td>\n",
       "      <td>0.713906</td>\n",
       "      <td>628.5</td>\n",
       "    </tr>\n",
       "    <tr>\n",
       "      <th>72</th>\n",
       "      <td>風の谷のナウシカ</td>\n",
       "      <td>1984-03-11</td>\n",
       "      <td>https://www.imdb.com/title/tt0087544</td>\n",
       "      <td>0.583766</td>\n",
       "      <td>7.7</td>\n",
       "      <td>0.713906</td>\n",
       "      <td>623.5</td>\n",
       "    </tr>\n",
       "  </tbody>\n",
       "</table>\n",
       "</div>"
      ],
      "text/plain": [
       "                                    name        date  \\\n",
       "5                     The Wrong Trousers  1993-12-17   \n",
       "30                    The Endless Summer  1966-06-15   \n",
       "40                           Taxi Driver  1976-02-07   \n",
       "24                   Catch Me If You Can  2002-12-25   \n",
       "11  Superstar: The Karen Carpenter Story  1988-04-30   \n",
       "19                 Angst essen Seele auf  1974-03-05   \n",
       "59                   Det sjunde inseglet  1957-02-16   \n",
       "89              The Shawshank Redemption  1994-09-23   \n",
       "85                           The Pianist  2002-09-24   \n",
       "72                              風の谷のナウシカ  1984-03-11   \n",
       "\n",
       "                                     url  ALS score  score imdb  correlation  \\\n",
       "5   https://www.imdb.com/title/tt0108598   0.897593         7.6     0.713906   \n",
       "30  https://www.imdb.com/title/tt0060371   0.723743         7.8     0.713906   \n",
       "40  https://www.imdb.com/title/tt0075314   0.668521         8.1     0.713906   \n",
       "24  https://www.imdb.com/title/tt0264464   0.735811         7.7     0.713906   \n",
       "11  https://www.imdb.com/title/tt0094075   0.832676         7.5     0.713906   \n",
       "19  https://www.imdb.com/title/tt0071141   0.770466         7.5     0.713906   \n",
       "59  https://www.imdb.com/title/tt0050976   0.627351         7.9     0.713906   \n",
       "89  https://www.imdb.com/title/tt0111161   0.558544         8.5     0.713906   \n",
       "85  https://www.imdb.com/title/tt0253474   0.566528         8.1     0.713906   \n",
       "72  https://www.imdb.com/title/tt0087544   0.583766         7.7     0.713906   \n",
       "\n",
       "     rank  \n",
       "5   682.0  \n",
       "30  673.5  \n",
       "40  673.5  \n",
       "24  671.5  \n",
       "11  666.0  \n",
       "19  658.0  \n",
       "59  650.5  \n",
       "89  630.5  \n",
       "85  628.5  \n",
       "72  623.5  "
      ]
     },
     "execution_count": 22,
     "metadata": {},
     "output_type": "execute_result"
    }
   ],
   "source": [
    "rec_final(moviesId).to_html('rec_final.html', encoding='utf-8', index=False, render_links=True)\n",
    "rec_final(moviesId)[:10]"
   ]
  },
  {
   "cell_type": "code",
   "execution_count": 23,
   "metadata": {},
   "outputs": [],
   "source": [
    "rec_final(popularity_movie['movieId'][:250]).to_html('popular movies from users dataset.html', encoding='utf-8', index=False, render_links=True)"
   ]
  },
  {
   "cell_type": "code",
   "execution_count": 24,
   "metadata": {},
   "outputs": [],
   "source": [
    "movies_ranked = movies[['movieId', 'vote_average', 'vote_count']].copy()\n",
    "movies_ranked['rank'] = movies_ranked['vote_average'].rank() + movies_ranked['vote_count'].rank()\n",
    "rec_final(movies_ranked.sort_values('rank', ascending=False)['movieId'][:250]).to_html('popular movies by rank.html', encoding='utf-8', index=False, render_links=True)"
   ]
  },
  {
   "cell_type": "code",
   "execution_count": null,
   "metadata": {},
   "outputs": [],
   "source": []
  }
 ],
 "metadata": {
  "kernelspec": {
   "display_name": "Python 3 (ipykernel)",
   "language": "python",
   "name": "python3"
  },
  "language_info": {
   "codemirror_mode": {
    "name": "ipython",
    "version": 3
   },
   "file_extension": ".py",
   "mimetype": "text/x-python",
   "name": "python",
   "nbconvert_exporter": "python",
   "pygments_lexer": "ipython3",
   "version": "3.11.4"
  }
 },
 "nbformat": 4,
 "nbformat_minor": 4
}
