{
 "cells": [
  {
   "cell_type": "code",
   "execution_count": 1,
   "metadata": {},
   "outputs": [],
   "source": [
    "selected_genres = ['Comedy', 'Adventure', 'Fantasy'] # or [''] to select all genres\n",
    "country = ''\n",
    "min_year = 1930\n",
    "max_year = 9999\n",
    "quartile1 = 0.2 # In case of a \"Memory error\", increase\n",
    "quartile3 = 0.7 # In case of a \"Memory error\", reduce"
   ]
  },
  {
   "cell_type": "code",
   "execution_count": 2,
   "metadata": {},
   "outputs": [],
   "source": [
    "import pandas as pd\n",
    "import numpy as np\n",
    "import matplotlib.pyplot as plt\n",
    "import re\n",
    "import json\n",
    "%matplotlib inline"
   ]
  },
  {
   "cell_type": "code",
   "execution_count": 3,
   "metadata": {},
   "outputs": [
    {
     "name": "stdout",
     "output_type": "stream",
     "text": [
      "26024289\n"
     ]
    },
    {
     "data": {
      "text/html": [
       "<div>\n",
       "<style scoped>\n",
       "    .dataframe tbody tr th:only-of-type {\n",
       "        vertical-align: middle;\n",
       "    }\n",
       "\n",
       "    .dataframe tbody tr th {\n",
       "        vertical-align: top;\n",
       "    }\n",
       "\n",
       "    .dataframe thead th {\n",
       "        text-align: right;\n",
       "    }\n",
       "</style>\n",
       "<table border=\"1\" class=\"dataframe\">\n",
       "  <thead>\n",
       "    <tr style=\"text-align: right;\">\n",
       "      <th></th>\n",
       "      <th>userId</th>\n",
       "      <th>movieId</th>\n",
       "      <th>rating</th>\n",
       "    </tr>\n",
       "  </thead>\n",
       "  <tbody>\n",
       "    <tr>\n",
       "      <th>0</th>\n",
       "      <td>1</td>\n",
       "      <td>110</td>\n",
       "      <td>1.0</td>\n",
       "    </tr>\n",
       "    <tr>\n",
       "      <th>1</th>\n",
       "      <td>1</td>\n",
       "      <td>147</td>\n",
       "      <td>4.5</td>\n",
       "    </tr>\n",
       "  </tbody>\n",
       "</table>\n",
       "</div>"
      ],
      "text/plain": [
       "   userId  movieId  rating\n",
       "0       1      110     1.0\n",
       "1       1      147     4.5"
      ]
     },
     "execution_count": 3,
     "metadata": {},
     "output_type": "execute_result"
    }
   ],
   "source": [
    "data = pd.read_csv('data/ratings.csv')\n",
    "data.drop('timestamp', axis=1, inplace=True)\n",
    "data = data.dropna()\n",
    "data['movieId'] = data['movieId'].astype('int64')\n",
    "print(len(data))\n",
    "data.head(2)"
   ]
  },
  {
   "cell_type": "code",
   "execution_count": 4,
   "metadata": {},
   "outputs": [
    {
     "name": "stdout",
     "output_type": "stream",
     "text": [
      "45466\n"
     ]
    },
    {
     "name": "stderr",
     "output_type": "stream",
     "text": [
      "C:\\Users\\ksn\\AppData\\Local\\Temp\\ipykernel_15732\\1554198658.py:1: DtypeWarning: Columns (10) have mixed types. Specify dtype option on import or set low_memory=False.\n",
      "  movies_data = pd.read_csv('data/movies_metadata.csv')\n"
     ]
    },
    {
     "data": {
      "text/html": [
       "<div>\n",
       "<style scoped>\n",
       "    .dataframe tbody tr th:only-of-type {\n",
       "        vertical-align: middle;\n",
       "    }\n",
       "\n",
       "    .dataframe tbody tr th {\n",
       "        vertical-align: top;\n",
       "    }\n",
       "\n",
       "    .dataframe thead th {\n",
       "        text-align: right;\n",
       "    }\n",
       "</style>\n",
       "<table border=\"1\" class=\"dataframe\">\n",
       "  <thead>\n",
       "    <tr style=\"text-align: right;\">\n",
       "      <th></th>\n",
       "      <th>adult</th>\n",
       "      <th>belongs_to_collection</th>\n",
       "      <th>budget</th>\n",
       "      <th>genres</th>\n",
       "      <th>homepage</th>\n",
       "      <th>movieId</th>\n",
       "      <th>imdb_id</th>\n",
       "      <th>original_language</th>\n",
       "      <th>original_title</th>\n",
       "      <th>overview</th>\n",
       "      <th>...</th>\n",
       "      <th>release_date</th>\n",
       "      <th>revenue</th>\n",
       "      <th>runtime</th>\n",
       "      <th>spoken_languages</th>\n",
       "      <th>status</th>\n",
       "      <th>tagline</th>\n",
       "      <th>title</th>\n",
       "      <th>video</th>\n",
       "      <th>vote_average</th>\n",
       "      <th>vote_count</th>\n",
       "    </tr>\n",
       "  </thead>\n",
       "  <tbody>\n",
       "    <tr>\n",
       "      <th>0</th>\n",
       "      <td>False</td>\n",
       "      <td>{'id': 10194, 'name': 'Toy Story Collection', ...</td>\n",
       "      <td>30000000</td>\n",
       "      <td>[{'id': 16, 'name': 'Animation'}, {'id': 35, '...</td>\n",
       "      <td>http://toystory.disney.com/toy-story</td>\n",
       "      <td>862</td>\n",
       "      <td>tt0114709</td>\n",
       "      <td>en</td>\n",
       "      <td>Toy Story</td>\n",
       "      <td>Led by Woody, Andy's toys live happily in his ...</td>\n",
       "      <td>...</td>\n",
       "      <td>1995-10-30</td>\n",
       "      <td>373554033.0</td>\n",
       "      <td>81.0</td>\n",
       "      <td>[{'iso_639_1': 'en', 'name': 'English'}]</td>\n",
       "      <td>Released</td>\n",
       "      <td>NaN</td>\n",
       "      <td>Toy Story</td>\n",
       "      <td>False</td>\n",
       "      <td>7.7</td>\n",
       "      <td>5415.0</td>\n",
       "    </tr>\n",
       "    <tr>\n",
       "      <th>1</th>\n",
       "      <td>False</td>\n",
       "      <td>NaN</td>\n",
       "      <td>65000000</td>\n",
       "      <td>[{'id': 12, 'name': 'Adventure'}, {'id': 14, '...</td>\n",
       "      <td>NaN</td>\n",
       "      <td>8844</td>\n",
       "      <td>tt0113497</td>\n",
       "      <td>en</td>\n",
       "      <td>Jumanji</td>\n",
       "      <td>When siblings Judy and Peter discover an encha...</td>\n",
       "      <td>...</td>\n",
       "      <td>1995-12-15</td>\n",
       "      <td>262797249.0</td>\n",
       "      <td>104.0</td>\n",
       "      <td>[{'iso_639_1': 'en', 'name': 'English'}, {'iso...</td>\n",
       "      <td>Released</td>\n",
       "      <td>Roll the dice and unleash the excitement!</td>\n",
       "      <td>Jumanji</td>\n",
       "      <td>False</td>\n",
       "      <td>6.9</td>\n",
       "      <td>2413.0</td>\n",
       "    </tr>\n",
       "  </tbody>\n",
       "</table>\n",
       "<p>2 rows × 24 columns</p>\n",
       "</div>"
      ],
      "text/plain": [
       "   adult                              belongs_to_collection    budget  \\\n",
       "0  False  {'id': 10194, 'name': 'Toy Story Collection', ...  30000000   \n",
       "1  False                                                NaN  65000000   \n",
       "\n",
       "                                              genres  \\\n",
       "0  [{'id': 16, 'name': 'Animation'}, {'id': 35, '...   \n",
       "1  [{'id': 12, 'name': 'Adventure'}, {'id': 14, '...   \n",
       "\n",
       "                               homepage movieId    imdb_id original_language  \\\n",
       "0  http://toystory.disney.com/toy-story     862  tt0114709                en   \n",
       "1                                   NaN    8844  tt0113497                en   \n",
       "\n",
       "  original_title                                           overview  ...  \\\n",
       "0      Toy Story  Led by Woody, Andy's toys live happily in his ...  ...   \n",
       "1        Jumanji  When siblings Judy and Peter discover an encha...  ...   \n",
       "\n",
       "  release_date      revenue runtime  \\\n",
       "0   1995-10-30  373554033.0    81.0   \n",
       "1   1995-12-15  262797249.0   104.0   \n",
       "\n",
       "                                    spoken_languages    status  \\\n",
       "0           [{'iso_639_1': 'en', 'name': 'English'}]  Released   \n",
       "1  [{'iso_639_1': 'en', 'name': 'English'}, {'iso...  Released   \n",
       "\n",
       "                                     tagline      title  video vote_average  \\\n",
       "0                                        NaN  Toy Story  False          7.7   \n",
       "1  Roll the dice and unleash the excitement!    Jumanji  False          6.9   \n",
       "\n",
       "  vote_count  \n",
       "0     5415.0  \n",
       "1     2413.0  \n",
       "\n",
       "[2 rows x 24 columns]"
      ]
     },
     "execution_count": 4,
     "metadata": {},
     "output_type": "execute_result"
    }
   ],
   "source": [
    "movies_data = pd.read_csv('data/movies_metadata.csv')\n",
    "movies_data = movies_data.rename(columns={\"id\": \"movieId\"})\n",
    "print(len(movies_data))\n",
    "movies_data.head(2)"
   ]
  },
  {
   "cell_type": "code",
   "execution_count": 5,
   "metadata": {},
   "outputs": [],
   "source": [
    "movies = movies_data.copy()\n",
    "\n",
    "for i in movies_data.index:\n",
    "    if re.findall('-', movies_data.iloc[i]['movieId']):\n",
    "        movies.drop(i, inplace=True)\n",
    "\n",
    "movies['movieId'] = movies['movieId'].astype('int64')\n",
    "movies3 = movies[['movieId', 'vote_average', 'vote_count']].copy()"
   ]
  },
  {
   "cell_type": "code",
   "execution_count": 6,
   "metadata": {},
   "outputs": [
    {
     "name": "stdout",
     "output_type": "stream",
     "text": [
      "184\n"
     ]
    },
    {
     "data": {
      "text/html": [
       "<div>\n",
       "<style scoped>\n",
       "    .dataframe tbody tr th:only-of-type {\n",
       "        vertical-align: middle;\n",
       "    }\n",
       "\n",
       "    .dataframe tbody tr th {\n",
       "        vertical-align: top;\n",
       "    }\n",
       "\n",
       "    .dataframe thead th {\n",
       "        text-align: right;\n",
       "    }\n",
       "</style>\n",
       "<table border=\"1\" class=\"dataframe\">\n",
       "  <thead>\n",
       "    <tr style=\"text-align: right;\">\n",
       "      <th></th>\n",
       "      <th>imdb_id</th>\n",
       "      <th>rating</th>\n",
       "      <th>Date Rated</th>\n",
       "      <th>Title</th>\n",
       "      <th>URL</th>\n",
       "      <th>Title Type</th>\n",
       "      <th>IMDb Rating</th>\n",
       "      <th>Runtime (mins)</th>\n",
       "      <th>Year</th>\n",
       "      <th>Genres</th>\n",
       "      <th>Num Votes</th>\n",
       "      <th>Release Date</th>\n",
       "      <th>Directors</th>\n",
       "    </tr>\n",
       "  </thead>\n",
       "  <tbody>\n",
       "    <tr>\n",
       "      <th>0</th>\n",
       "      <td>tt1014759</td>\n",
       "      <td>9</td>\n",
       "      <td>2023-12-21</td>\n",
       "      <td>Alice in Wonderland</td>\n",
       "      <td>https://www.imdb.com/title/tt1014759/</td>\n",
       "      <td>movie</td>\n",
       "      <td>6.4</td>\n",
       "      <td>108</td>\n",
       "      <td>2010</td>\n",
       "      <td>Adventure, Family, Fantasy, Mystery</td>\n",
       "      <td>438745</td>\n",
       "      <td>2010-02-25</td>\n",
       "      <td>Tim Burton</td>\n",
       "    </tr>\n",
       "    <tr>\n",
       "      <th>1</th>\n",
       "      <td>tt0103639</td>\n",
       "      <td>9</td>\n",
       "      <td>2023-12-14</td>\n",
       "      <td>Aladdin</td>\n",
       "      <td>https://www.imdb.com/title/tt0103639/</td>\n",
       "      <td>movie</td>\n",
       "      <td>8.0</td>\n",
       "      <td>90</td>\n",
       "      <td>1992</td>\n",
       "      <td>Animation, Adventure, Comedy, Family, Fantasy,...</td>\n",
       "      <td>462763</td>\n",
       "      <td>1992-11-08</td>\n",
       "      <td>Ron Clements, John Musker</td>\n",
       "    </tr>\n",
       "  </tbody>\n",
       "</table>\n",
       "</div>"
      ],
      "text/plain": [
       "     imdb_id  rating  Date Rated                Title  \\\n",
       "0  tt1014759       9  2023-12-21  Alice in Wonderland   \n",
       "1  tt0103639       9  2023-12-14              Aladdin   \n",
       "\n",
       "                                     URL Title Type  IMDb Rating  \\\n",
       "0  https://www.imdb.com/title/tt1014759/      movie          6.4   \n",
       "1  https://www.imdb.com/title/tt0103639/      movie          8.0   \n",
       "\n",
       "   Runtime (mins)  Year                                             Genres  \\\n",
       "0             108  2010                Adventure, Family, Fantasy, Mystery   \n",
       "1              90  1992  Animation, Adventure, Comedy, Family, Fantasy,...   \n",
       "\n",
       "   Num Votes Release Date                  Directors  \n",
       "0     438745   2010-02-25                 Tim Burton  \n",
       "1     462763   1992-11-08  Ron Clements, John Musker  "
      ]
     },
     "execution_count": 6,
     "metadata": {},
     "output_type": "execute_result"
    }
   ],
   "source": [
    "my_ratings = pd.read_csv('ratings.csv')\n",
    "print(len(my_ratings))\n",
    "my_ratings = my_ratings.rename(columns={\"Const\": \"imdb_id\", \"Your Rating\": \"rating\"})\n",
    "my_ratings.head(2)"
   ]
  },
  {
   "cell_type": "code",
   "execution_count": 7,
   "metadata": {},
   "outputs": [
    {
     "data": {
      "text/html": [
       "<div>\n",
       "<style scoped>\n",
       "    .dataframe tbody tr th:only-of-type {\n",
       "        vertical-align: middle;\n",
       "    }\n",
       "\n",
       "    .dataframe tbody tr th {\n",
       "        vertical-align: top;\n",
       "    }\n",
       "\n",
       "    .dataframe thead th {\n",
       "        text-align: right;\n",
       "    }\n",
       "</style>\n",
       "<table border=\"1\" class=\"dataframe\">\n",
       "  <thead>\n",
       "    <tr style=\"text-align: right;\">\n",
       "      <th></th>\n",
       "      <th>rating</th>\n",
       "      <th>userId</th>\n",
       "      <th>movieId</th>\n",
       "    </tr>\n",
       "    <tr>\n",
       "      <th>movieId</th>\n",
       "      <th></th>\n",
       "      <th></th>\n",
       "      <th></th>\n",
       "    </tr>\n",
       "  </thead>\n",
       "  <tbody>\n",
       "    <tr>\n",
       "      <th>12155.0</th>\n",
       "      <td>9</td>\n",
       "      <td>400000</td>\n",
       "      <td>12155.0</td>\n",
       "    </tr>\n",
       "    <tr>\n",
       "      <th>812.0</th>\n",
       "      <td>9</td>\n",
       "      <td>400000</td>\n",
       "      <td>812.0</td>\n",
       "    </tr>\n",
       "  </tbody>\n",
       "</table>\n",
       "</div>"
      ],
      "text/plain": [
       "         rating  userId  movieId\n",
       "movieId                         \n",
       "12155.0       9  400000  12155.0\n",
       "812.0         9  400000    812.0"
      ]
     },
     "execution_count": 7,
     "metadata": {},
     "output_type": "execute_result"
    }
   ],
   "source": [
    "my = my_ratings[['imdb_id', 'rating']].copy()\n",
    "my['userId'] = 400000\n",
    "ids = movies[['movieId', 'imdb_id']]\n",
    "my = my.merge(ids, how='left', on='imdb_id')\n",
    "my.drop('imdb_id', axis=1, inplace=True)\n",
    "my.index = my['movieId']\n",
    "my.head(2)"
   ]
  },
  {
   "cell_type": "markdown",
   "metadata": {},
   "source": [
    "Delete movies from the data that are not in the table 'movies'"
   ]
  },
  {
   "cell_type": "code",
   "execution_count": 8,
   "metadata": {},
   "outputs": [
    {
     "data": {
      "text/plain": [
       "11436568"
      ]
     },
     "execution_count": 8,
     "metadata": {},
     "output_type": "execute_result"
    }
   ],
   "source": [
    "delta = set(data['movieId']) - set(movies['movieId'])\n",
    "data_train = data.loc[~data['movieId'].isin(delta)]\n",
    "len(data_train)"
   ]
  },
  {
   "cell_type": "markdown",
   "metadata": {},
   "source": [
    "Creating genres table"
   ]
  },
  {
   "cell_type": "code",
   "execution_count": 9,
   "metadata": {},
   "outputs": [],
   "source": [
    "genres = []\n",
    "\n",
    "for i in range(len(movies)):\n",
    "    genres.extend(list(map(lambda x: x[9:], re.findall(\"'name': '\\w*\", movies.iloc[i]['genres']))))\n",
    "\n",
    "colms = list(set(genres))\n",
    "\n",
    "df_genres = pd.DataFrame(columns=colms)\n",
    "df_genres['movieId'] = movies['movieId']\n",
    "df_genres = df_genres.fillna(0)\n",
    "df_genres.index = df_genres['movieId']\n",
    "df_genres.drop('movieId', axis=1, inplace=True)\n",
    "\n",
    "for i in df_genres.index:\n",
    "    genres = list(map(lambda x: x[9:], re.findall(\"'name': '\\w*\", str(movies.loc[movies['movieId'] == i]['genres']))))\n",
    "    for j in genres:\n",
    "        df_genres.at[i, j] = 1\n",
    "\n",
    "sum_col = [sum(df_genres[i]) for i in df_genres.columns]\n",
    "\n",
    "for i in df_genres.columns:\n",
    "    if sum(df_genres[i]) < np.percentile(np.array(sum_col), 10):\n",
    "        try:\n",
    "            df_genres.drop(i, axis=1, inplace=True)\n",
    "        except KeyError:\n",
    "            pass"
   ]
  },
  {
   "cell_type": "markdown",
   "metadata": {},
   "source": [
    "Limit by genres"
   ]
  },
  {
   "cell_type": "code",
   "execution_count": 10,
   "metadata": {},
   "outputs": [
    {
     "name": "stdout",
     "output_type": "stream",
     "text": [
      "3110939\n"
     ]
    }
   ],
   "source": [
    "if selected_genres[0] != '':\n",
    "    my_genres = []\n",
    "    for i in selected_genres:\n",
    "        my_genres.extend(list(df_genres.loc[df_genres[i] == 1].index))\n",
    "    my_genres = list(set(my_genres))\n",
    "    data_train = data_train.loc[data_train['movieId'].isin(my_genres)]\n",
    "    my = my.loc[my['movieId'].isin(my_genres)]\n",
    "    movies3 = movies3.loc[movies3['movieId'].isin(my_genres)]\n",
    "print(len(data_train))"
   ]
  },
  {
   "cell_type": "markdown",
   "metadata": {},
   "source": [
    "limit by years"
   ]
  },
  {
   "cell_type": "code",
   "execution_count": 11,
   "metadata": {},
   "outputs": [
    {
     "data": {
      "text/plain": [
       "3072061"
      ]
     },
     "execution_count": 11,
     "metadata": {},
     "output_type": "execute_result"
    }
   ],
   "source": [
    "movieId = []\n",
    "year = []\n",
    "\n",
    "for i in movies['movieId']:\n",
    "    movieId.append(i)\n",
    "    try:\n",
    "        year.append(int(re.findall('[0-9]{4}-', str(movies.loc[movies['movieId'] == i]['release_date']))[0][0:4]))\n",
    "    except IndexError:\n",
    "        year.append(8888)\n",
    "\n",
    "df_year = pd.DataFrame({'movieId': movieId, 'year': year})\n",
    "df_year = df_year.loc[(df_year['year'] < max_year)&(df_year['year'] > min_year)]\n",
    "\n",
    "data_train = data_train.loc[data_train['movieId'].isin(df_year['movieId'])]\n",
    "my = my.loc[my['movieId'].isin(df_year['movieId'])]\n",
    "movies3 = movies3.loc[movies3['movieId'].isin(df_year['movieId'])]\n",
    "len(data_train)"
   ]
  },
  {
   "cell_type": "markdown",
   "metadata": {},
   "source": [
    "Limit by country"
   ]
  },
  {
   "cell_type": "code",
   "execution_count": 12,
   "metadata": {},
   "outputs": [
    {
     "name": "stdout",
     "output_type": "stream",
     "text": [
      "3072061\n"
     ]
    }
   ],
   "source": [
    "if country  != '':\n",
    "    #Adding country column\n",
    "    countries = []\n",
    "\n",
    "    for i in movies.index:\n",
    "        try:\n",
    "            c = movies['production_countries'][i].replace(\"}, {\", \"}]comma[{\").split('comma')\n",
    "        except AttributeError:\n",
    "            pass\n",
    "    \n",
    "        if len(c) > 1:\n",
    "            for j in c:\n",
    "                if j[17:19] not in ('CI', 'LA'):\n",
    "                    countries.append(json.loads(j.replace(\"\\'\", \"\\\"\")[1:-1])['name'])\n",
    "                    movies.at[i, 'countries'] = json.loads(j.replace(\"\\'\", \"\\\"\")[1:-1])['name']\n",
    "        if len(c[0]) > 2:\n",
    "            if c[0][17:19] not in ('CI', 'LA'):\n",
    "                countries.append(json.loads(c[0].replace(\"\\'\", \"\\\"\")[1:-1])['name'])\n",
    "                movies.at[i, 'countries'] = json.loads(c[0].replace(\"\\'\", \"\\\"\")[1:-1])['name']\n",
    "\n",
    "    #Limit by country\n",
    "    if country == 'Russia':\n",
    "        selected_countries = list(movies.loc[(movies['countries'] == 'Soviet Union')|(movies['countries'] == 'Russia')]['movieId'])\n",
    "    else:\n",
    "        selected_countries = list(movies.loc[movies['countries'] == country]['movieId'])\n",
    "    \n",
    "    data_train = data_train.loc[data_train['movieId'].isin(selected_countries)]\n",
    "    my = my.loc[my['movieId'].isin(selected_countries)]\n",
    "    movies3 = movies3.loc[movies3['movieId'].isin(selected_countries)]\n",
    "print(len(data_train))"
   ]
  },
  {
   "cell_type": "markdown",
   "metadata": {},
   "source": [
    "### Reducing amount of data"
   ]
  },
  {
   "cell_type": "code",
   "execution_count": 13,
   "metadata": {},
   "outputs": [
    {
     "data": {
      "text/html": [
       "<div>\n",
       "<style scoped>\n",
       "    .dataframe tbody tr th:only-of-type {\n",
       "        vertical-align: middle;\n",
       "    }\n",
       "\n",
       "    .dataframe tbody tr th {\n",
       "        vertical-align: top;\n",
       "    }\n",
       "\n",
       "    .dataframe thead th {\n",
       "        text-align: right;\n",
       "    }\n",
       "</style>\n",
       "<table border=\"1\" class=\"dataframe\">\n",
       "  <thead>\n",
       "    <tr style=\"text-align: right;\">\n",
       "      <th></th>\n",
       "      <th>movieId</th>\n",
       "      <th>rating_rank</th>\n",
       "    </tr>\n",
       "  </thead>\n",
       "  <tbody>\n",
       "    <tr>\n",
       "      <th>105</th>\n",
       "      <td>480</td>\n",
       "      <td>1793.0</td>\n",
       "    </tr>\n",
       "    <tr>\n",
       "      <th>440</th>\n",
       "      <td>2959</td>\n",
       "      <td>1792.0</td>\n",
       "    </tr>\n",
       "    <tr>\n",
       "      <th>197</th>\n",
       "      <td>858</td>\n",
       "      <td>1791.0</td>\n",
       "    </tr>\n",
       "  </tbody>\n",
       "</table>\n",
       "</div>"
      ],
      "text/plain": [
       "     movieId  rating_rank\n",
       "105      480       1793.0\n",
       "440     2959       1792.0\n",
       "197      858       1791.0"
      ]
     },
     "execution_count": 13,
     "metadata": {},
     "output_type": "execute_result"
    }
   ],
   "source": [
    "popularity_movie = data_train.groupby('movieId')['rating'].count().reset_index().sort_values('rating', ascending=False)\n",
    "popularity_movie['rating_rank'] = popularity_movie['rating'].rank()\n",
    "popularity_movie.drop('rating', axis=1, inplace=True)\n",
    "popularity_movie.head(3)"
   ]
  },
  {
   "cell_type": "code",
   "execution_count": 14,
   "metadata": {},
   "outputs": [],
   "source": [
    "data_train = pd.merge(data_train, popularity_movie, how='left', on='movieId')"
   ]
  },
  {
   "cell_type": "code",
   "execution_count": 15,
   "metadata": {},
   "outputs": [
    {
     "data": {
      "text/html": [
       "<div>\n",
       "<style scoped>\n",
       "    .dataframe tbody tr th:only-of-type {\n",
       "        vertical-align: middle;\n",
       "    }\n",
       "\n",
       "    .dataframe tbody tr th {\n",
       "        vertical-align: top;\n",
       "    }\n",
       "\n",
       "    .dataframe thead th {\n",
       "        text-align: right;\n",
       "    }\n",
       "</style>\n",
       "<table border=\"1\" class=\"dataframe\">\n",
       "  <thead>\n",
       "    <tr style=\"text-align: right;\">\n",
       "      <th></th>\n",
       "      <th>userId</th>\n",
       "      <th>rating_rank</th>\n",
       "    </tr>\n",
       "  </thead>\n",
       "  <tbody>\n",
       "    <tr>\n",
       "      <th>0</th>\n",
       "      <td>8659</td>\n",
       "      <td>1013764.5</td>\n",
       "    </tr>\n",
       "    <tr>\n",
       "      <th>1</th>\n",
       "      <td>179792</td>\n",
       "      <td>941724.0</td>\n",
       "    </tr>\n",
       "    <tr>\n",
       "      <th>2</th>\n",
       "      <td>45811</td>\n",
       "      <td>906704.5</td>\n",
       "    </tr>\n",
       "  </tbody>\n",
       "</table>\n",
       "</div>"
      ],
      "text/plain": [
       "   userId  rating_rank\n",
       "0    8659    1013764.5\n",
       "1  179792     941724.0\n",
       "2   45811     906704.5"
      ]
     },
     "execution_count": 15,
     "metadata": {},
     "output_type": "execute_result"
    }
   ],
   "source": [
    "user_sum_rating = data_train.groupby('userId')['rating_rank'].sum().reset_index().sort_values('rating_rank', ascending=False).reset_index(drop=True)\n",
    "user_sum_rating.head(3)"
   ]
  },
  {
   "cell_type": "code",
   "execution_count": 16,
   "metadata": {},
   "outputs": [
    {
     "data": {
      "text/html": [
       "<div>\n",
       "<style scoped>\n",
       "    .dataframe tbody tr th:only-of-type {\n",
       "        vertical-align: middle;\n",
       "    }\n",
       "\n",
       "    .dataframe tbody tr th {\n",
       "        vertical-align: top;\n",
       "    }\n",
       "\n",
       "    .dataframe thead th {\n",
       "        text-align: right;\n",
       "    }\n",
       "</style>\n",
       "<table border=\"1\" class=\"dataframe\">\n",
       "  <thead>\n",
       "    <tr style=\"text-align: right;\">\n",
       "      <th></th>\n",
       "      <th>userId</th>\n",
       "      <th>rating_rank</th>\n",
       "    </tr>\n",
       "  </thead>\n",
       "  <tbody>\n",
       "    <tr>\n",
       "      <th>0</th>\n",
       "      <td>45811</td>\n",
       "      <td>878</td>\n",
       "    </tr>\n",
       "    <tr>\n",
       "      <th>1</th>\n",
       "      <td>8659</td>\n",
       "      <td>823</td>\n",
       "    </tr>\n",
       "    <tr>\n",
       "      <th>2</th>\n",
       "      <td>179792</td>\n",
       "      <td>701</td>\n",
       "    </tr>\n",
       "  </tbody>\n",
       "</table>\n",
       "</div>"
      ],
      "text/plain": [
       "   userId  rating_rank\n",
       "0   45811          878\n",
       "1    8659          823\n",
       "2  179792          701"
      ]
     },
     "execution_count": 16,
     "metadata": {},
     "output_type": "execute_result"
    }
   ],
   "source": [
    "user_count_rating = data_train.groupby('userId')['rating_rank'].count().reset_index().sort_values('rating_rank', ascending=False).reset_index(drop=True)\n",
    "user_count_rating.head(3)"
   ]
  },
  {
   "cell_type": "code",
   "execution_count": 17,
   "metadata": {},
   "outputs": [
    {
     "data": {
      "text/html": [
       "<div>\n",
       "<style scoped>\n",
       "    .dataframe tbody tr th:only-of-type {\n",
       "        vertical-align: middle;\n",
       "    }\n",
       "\n",
       "    .dataframe tbody tr th {\n",
       "        vertical-align: top;\n",
       "    }\n",
       "\n",
       "    .dataframe thead th {\n",
       "        text-align: right;\n",
       "    }\n",
       "</style>\n",
       "<table border=\"1\" class=\"dataframe\">\n",
       "  <thead>\n",
       "    <tr style=\"text-align: right;\">\n",
       "      <th></th>\n",
       "      <th>userId</th>\n",
       "      <th>rating_rank</th>\n",
       "    </tr>\n",
       "  </thead>\n",
       "  <tbody>\n",
       "    <tr>\n",
       "      <th>0</th>\n",
       "      <td>8659</td>\n",
       "      <td>1231.791616</td>\n",
       "    </tr>\n",
       "    <tr>\n",
       "      <th>1</th>\n",
       "      <td>179792</td>\n",
       "      <td>1343.400856</td>\n",
       "    </tr>\n",
       "    <tr>\n",
       "      <th>2</th>\n",
       "      <td>45811</td>\n",
       "      <td>1032.693052</td>\n",
       "    </tr>\n",
       "  </tbody>\n",
       "</table>\n",
       "</div>"
      ],
      "text/plain": [
       "   userId  rating_rank\n",
       "0    8659  1231.791616\n",
       "1  179792  1343.400856\n",
       "2   45811  1032.693052"
      ]
     },
     "execution_count": 17,
     "metadata": {},
     "output_type": "execute_result"
    }
   ],
   "source": [
    "user_rating = pd.merge(user_sum_rating, user_count_rating, how='left', on='userId')\n",
    "user_rating['rating_rank'] = user_rating['rating_rank_x']/user_rating['rating_rank_y']\n",
    "user_rating.drop(['rating_rank_x', 'rating_rank_y'], axis=1, inplace=True)\n",
    "user_rating.head(3)"
   ]
  },
  {
   "cell_type": "code",
   "execution_count": 18,
   "metadata": {},
   "outputs": [
    {
     "data": {
      "image/png": "[encoded data removed]",
      "text/plain": [
       "<Figure size 640x480 with 1 Axes>"
      ]
     },
     "metadata": {},
     "output_type": "display_data"
    }
   ],
   "source": [
    "plt.boxplot(user_rating['rating_rank'], vert=False)\n",
    "plt.show()"
   ]
  },
  {
   "cell_type": "markdown",
   "metadata": {},
   "source": [
    "Selected interquartile range "
   ]
  },
  {
   "cell_type": "code",
   "execution_count": 19,
   "metadata": {},
   "outputs": [
    {
     "name": "stdout",
     "output_type": "stream",
     "text": [
      "Q1=1666.0, Q3=1752.0\n"
     ]
    },
    {
     "data": {
      "image/png": "[encoded data removed]",
      "text/plain": [
       "<Figure size 640x480 with 1 Axes>"
      ]
     },
     "metadata": {},
     "output_type": "display_data"
    }
   ],
   "source": [
    "Q1 = user_rating['rating_rank'].quantile(quartile1)\n",
    "Q3 = user_rating['rating_rank'].quantile(quartile3)\n",
    "print(f'Q1={Q1}, Q3={Q3}')\n",
    "user_rating_iqr = user_rating.loc[(user_rating['rating_rank'] < Q3) & (user_rating['rating_rank'] > Q1)]\n",
    "user_list = user_rating_iqr['userId'].tolist()\n",
    "plt.boxplot(user_rating_iqr['rating_rank'], vert=False)\n",
    "plt.show()"
   ]
  },
  {
   "cell_type": "code",
   "execution_count": 20,
   "metadata": {},
   "outputs": [
    {
     "data": {
      "text/plain": [
       "1589127"
      ]
     },
     "execution_count": 20,
     "metadata": {},
     "output_type": "execute_result"
    }
   ],
   "source": [
    "data_train = data_train.loc[data_train['userId'].isin(user_list)]\n",
    "data_train.drop('rating_rank', axis=1, inplace=True)\n",
    "data_train = pd.concat([data_train, my], ignore_index=True)\n",
    "len(data_train)"
   ]
  },
  {
   "cell_type": "code",
   "execution_count": 21,
   "metadata": {
    "scrolled": true
   },
   "outputs": [
    {
     "name": "stderr",
     "output_type": "stream",
     "text": [
      "C:\\Python311\\Lib\\site-packages\\tqdm\\auto.py:21: TqdmWarning: IProgress not found. Please update jupyter and ipywidgets. See https://ipywidgets.readthedocs.io/en/stable/user_install.html\n",
      "  from .autonotebook import tqdm as notebook_tqdm\n",
      "C:\\Python311\\Lib\\site-packages\\implicit\\cpu\\als.py:95: RuntimeWarning: OpenBLAS is configured to use 12 threads. It is highly recommended to disable its internal threadpool by setting the environment variable 'OPENBLAS_NUM_THREADS=1' or by calling 'threadpoolctl.threadpool_limits(1, \"blas\")'. Having OpenBLAS use a threadpool can lead to severe performance issues here.\n",
      "  check_blas_config()\n",
      "100%|██████████████████████████████████████████████████████████████████████████████████| 20/20 [01:44<00:00,  5.24s/it]\n"
     ]
    }
   ],
   "source": [
    "import implicit\n",
    "from scipy.sparse import csr_matrix\n",
    "\n",
    "# initialize a model\n",
    "model = implicit.als.AlternatingLeastSquares(factors=100,\n",
    "                                        regularization=0.05, \n",
    "                                        alpha=2.0,\n",
    "                                        iterations=20,\n",
    "                                        random_state=38)\n",
    "\n",
    "# train the model on a sparse matrix of user/item/confidence weights\n",
    "user_item_matrix = pd.pivot_table(data_train,\n",
    "                                  index='userId', columns='movieId',\n",
    "                                  values='rating',\n",
    "                                  fill_value=0)\n",
    "\n",
    "# scipy resets indexes\n",
    "idALS_movieId = dict((i, j) for i, j in enumerate(user_item_matrix.columns))\n",
    "\n",
    "user_item_matrix = user_item_matrix.astype(float)\n",
    "user_item_matrix_csr = csr_matrix(user_item_matrix).tocsr()\n",
    "\n",
    "model.fit(user_item_matrix_csr)"
   ]
  },
  {
   "cell_type": "code",
   "execution_count": 22,
   "metadata": {},
   "outputs": [],
   "source": [
    "from implicit.nearest_neighbours import bm25_weight\n",
    "\n",
    "# weight the matrix, both to reduce impact of users that have played the same artist thousands of times\n",
    "# and to reduce the weight given to popular items\n",
    "#user_item_matrix_csr = bm25_weight(user_item_matrix_csr, K1=100, B=0.8)"
   ]
  },
  {
   "cell_type": "code",
   "execution_count": 23,
   "metadata": {},
   "outputs": [],
   "source": [
    "id_score = model.recommend(-1, user_item_matrix_csr[-1], N=250, filter_already_liked_items=True)\n",
    "moviesId = [idALS_movieId[i] for i in id_score[0]]\n",
    "ALScore = dict((i, j) for i, j in zip(moviesId, id_score[1]))"
   ]
  },
  {
   "cell_type": "code",
   "execution_count": 24,
   "metadata": {},
   "outputs": [],
   "source": [
    "my_bt6 = my.loc[my['rating'] > 6]\n",
    "my_genres = df_genres[df_genres.index.isin(my_bt6['movieId'])].mean().values\n",
    "\n",
    "def rec_final(rec):\n",
    "    name = []\n",
    "    date = []\n",
    "    url = []\n",
    "    als_score = []\n",
    "    score_imdb = []\n",
    "    corr = []\n",
    "\n",
    "    for i in rec:\n",
    "        if i not in my.index:\n",
    "            name.append(movies.loc[movies['movieId'] == i]['original_title'].values[0])\n",
    "            date.append(movies.loc[movies['movieId'] == i]['release_date'].values[0])\n",
    "            url.append('https://www.imdb.com/title/' + str(movies.loc[movies['movieId'] == i]['imdb_id'].values[0]))\n",
    "            if type(rec) == list:\n",
    "                als_score.append(ALScore[i])\n",
    "            score_imdb.append(movies.loc[movies['movieId'] == i]['vote_average'].values[0])\n",
    "            corr.append(0)\n",
    "            if df_genres.loc[int(i)].sum().any() != 0:\n",
    "                corr[-1] = (np.corrcoef(my_genres, df_genres.loc[int(i)])[0, 1])\n",
    "\n",
    "    df =  pd.DataFrame({'name': name, 'date': date, 'url': url, 'score imdb': score_imdb, 'correlation': corr})\n",
    "    df['rank'] = df['score imdb'].rank() + df['correlation'].rank()\n",
    "    df = df.sort_values('rank', ascending=False)\n",
    "    if type(rec) == list:\n",
    "        df =  pd.DataFrame({'name': name, 'date': date, 'url': url, 'ALS score': als_score, 'score imdb': score_imdb, 'correlation': corr}).drop_duplicates()\n",
    "        df['rank'] = df['score imdb'].rank() + df['ALS score'].rank() + df['correlation'].rank()\n",
    "        df = df.sort_values('rank', ascending=False)\n",
    "    return df"
   ]
  },
  {
   "cell_type": "code",
   "execution_count": 25,
   "metadata": {},
   "outputs": [
    {
     "data": {
      "text/html": [
       "<div>\n",
       "<style scoped>\n",
       "    .dataframe tbody tr th:only-of-type {\n",
       "        vertical-align: middle;\n",
       "    }\n",
       "\n",
       "    .dataframe tbody tr th {\n",
       "        vertical-align: top;\n",
       "    }\n",
       "\n",
       "    .dataframe thead th {\n",
       "        text-align: right;\n",
       "    }\n",
       "</style>\n",
       "<table border=\"1\" class=\"dataframe\">\n",
       "  <thead>\n",
       "    <tr style=\"text-align: right;\">\n",
       "      <th></th>\n",
       "      <th>name</th>\n",
       "      <th>date</th>\n",
       "      <th>url</th>\n",
       "      <th>ALS score</th>\n",
       "      <th>score imdb</th>\n",
       "      <th>correlation</th>\n",
       "      <th>rank</th>\n",
       "    </tr>\n",
       "  </thead>\n",
       "  <tbody>\n",
       "    <tr>\n",
       "      <th>13</th>\n",
       "      <td>The Great Dictator</td>\n",
       "      <td>1940-10-15</td>\n",
       "      <td>https://www.imdb.com/title/tt0032553</td>\n",
       "      <td>0.896790</td>\n",
       "      <td>8.1</td>\n",
       "      <td>0.726183</td>\n",
       "      <td>654.5</td>\n",
       "    </tr>\n",
       "    <tr>\n",
       "      <th>3</th>\n",
       "      <td>Office Space</td>\n",
       "      <td>1999-02-19</td>\n",
       "      <td>https://www.imdb.com/title/tt0151804</td>\n",
       "      <td>1.154920</td>\n",
       "      <td>7.4</td>\n",
       "      <td>0.726183</td>\n",
       "      <td>633.0</td>\n",
       "    </tr>\n",
       "    <tr>\n",
       "      <th>11</th>\n",
       "      <td>菊次郎の夏</td>\n",
       "      <td>1999-06-05</td>\n",
       "      <td>https://www.imdb.com/title/tt0199683</td>\n",
       "      <td>0.912765</td>\n",
       "      <td>7.5</td>\n",
       "      <td>0.726183</td>\n",
       "      <td>633.0</td>\n",
       "    </tr>\n",
       "    <tr>\n",
       "      <th>35</th>\n",
       "      <td>Breakfast at Tiffany's</td>\n",
       "      <td>1961-10-05</td>\n",
       "      <td>https://www.imdb.com/title/tt0054698</td>\n",
       "      <td>0.704710</td>\n",
       "      <td>7.6</td>\n",
       "      <td>0.726183</td>\n",
       "      <td>614.5</td>\n",
       "    </tr>\n",
       "    <tr>\n",
       "      <th>10</th>\n",
       "      <td>Raising Arizona</td>\n",
       "      <td>1987-03-01</td>\n",
       "      <td>https://www.imdb.com/title/tt0093822</td>\n",
       "      <td>0.936758</td>\n",
       "      <td>7.2</td>\n",
       "      <td>0.726183</td>\n",
       "      <td>605.5</td>\n",
       "    </tr>\n",
       "    <tr>\n",
       "      <th>66</th>\n",
       "      <td>A Canção de Lisboa</td>\n",
       "      <td>1933-11-07</td>\n",
       "      <td>https://www.imdb.com/title/tt0023871</td>\n",
       "      <td>0.567516</td>\n",
       "      <td>8.0</td>\n",
       "      <td>0.726183</td>\n",
       "      <td>599.0</td>\n",
       "    </tr>\n",
       "    <tr>\n",
       "      <th>31</th>\n",
       "      <td>Trouble in Paradise</td>\n",
       "      <td>1932-10-21</td>\n",
       "      <td>https://www.imdb.com/title/tt0023622</td>\n",
       "      <td>0.742417</td>\n",
       "      <td>7.3</td>\n",
       "      <td>0.726183</td>\n",
       "      <td>593.0</td>\n",
       "    </tr>\n",
       "    <tr>\n",
       "      <th>44</th>\n",
       "      <td>รถไฟฟ้า มาหานะเธอ</td>\n",
       "      <td>2009-10-15</td>\n",
       "      <td>https://www.imdb.com/title/tt1621642</td>\n",
       "      <td>0.638523</td>\n",
       "      <td>7.4</td>\n",
       "      <td>0.726183</td>\n",
       "      <td>592.0</td>\n",
       "    </tr>\n",
       "    <tr>\n",
       "      <th>45</th>\n",
       "      <td>Mary Poppins</td>\n",
       "      <td>1964-08-27</td>\n",
       "      <td>https://www.imdb.com/title/tt0058331</td>\n",
       "      <td>0.632313</td>\n",
       "      <td>7.4</td>\n",
       "      <td>0.726183</td>\n",
       "      <td>591.0</td>\n",
       "    </tr>\n",
       "    <tr>\n",
       "      <th>38</th>\n",
       "      <td>Pocketful of Miracles</td>\n",
       "      <td>1961-12-18</td>\n",
       "      <td>https://www.imdb.com/title/tt0055312</td>\n",
       "      <td>0.677319</td>\n",
       "      <td>7.3</td>\n",
       "      <td>0.726183</td>\n",
       "      <td>586.0</td>\n",
       "    </tr>\n",
       "  </tbody>\n",
       "</table>\n",
       "</div>"
      ],
      "text/plain": [
       "                      name        date                                   url  \\\n",
       "13      The Great Dictator  1940-10-15  https://www.imdb.com/title/tt0032553   \n",
       "3             Office Space  1999-02-19  https://www.imdb.com/title/tt0151804   \n",
       "11                   菊次郎の夏  1999-06-05  https://www.imdb.com/title/tt0199683   \n",
       "35  Breakfast at Tiffany's  1961-10-05  https://www.imdb.com/title/tt0054698   \n",
       "10         Raising Arizona  1987-03-01  https://www.imdb.com/title/tt0093822   \n",
       "66      A Canção de Lisboa  1933-11-07  https://www.imdb.com/title/tt0023871   \n",
       "31     Trouble in Paradise  1932-10-21  https://www.imdb.com/title/tt0023622   \n",
       "44       รถไฟฟ้า มาหานะเธอ  2009-10-15  https://www.imdb.com/title/tt1621642   \n",
       "45            Mary Poppins  1964-08-27  https://www.imdb.com/title/tt0058331   \n",
       "38   Pocketful of Miracles  1961-12-18  https://www.imdb.com/title/tt0055312   \n",
       "\n",
       "    ALS score  score imdb  correlation   rank  \n",
       "13   0.896790         8.1     0.726183  654.5  \n",
       "3    1.154920         7.4     0.726183  633.0  \n",
       "11   0.912765         7.5     0.726183  633.0  \n",
       "35   0.704710         7.6     0.726183  614.5  \n",
       "10   0.936758         7.2     0.726183  605.5  \n",
       "66   0.567516         8.0     0.726183  599.0  \n",
       "31   0.742417         7.3     0.726183  593.0  \n",
       "44   0.638523         7.4     0.726183  592.0  \n",
       "45   0.632313         7.4     0.726183  591.0  \n",
       "38   0.677319         7.3     0.726183  586.0  "
      ]
     },
     "execution_count": 25,
     "metadata": {},
     "output_type": "execute_result"
    }
   ],
   "source": [
    "rec_final(moviesId).to_html(f'{\" \".join(map((str), selected_genres))} {country} ALS recommendations {min_year} - {max_year}.html', encoding='utf-8', index=False, render_links=True)\n",
    "rec_final(moviesId)[:10]"
   ]
  },
  {
   "cell_type": "code",
   "execution_count": 26,
   "metadata": {},
   "outputs": [],
   "source": [
    "rec_final(popularity_movie['movieId'][:250]).to_html(f'{\" \".join(map((str), selected_genres))} {country} movies from users dataset {min_year} - {max_year}.html', encoding='utf-8', index=False, render_links=True)"
   ]
  },
  {
   "cell_type": "code",
   "execution_count": 27,
   "metadata": {},
   "outputs": [],
   "source": [
    "movies3['rank'] = movies3['vote_average'].rank() + movies3['vote_count'].rank()\n",
    "rec_final(movies3.sort_values('rank', ascending=False)['movieId'][:250])\\\n",
    ".to_html(f'{\" \".join(map((str), selected_genres))} {country} movies by score and popularity {min_year} - {max_year}.html', encoding='utf-8', index=False, render_links=True)"
   ]
  }
 ],
 "metadata": {
  "kernelspec": {
   "display_name": "Python 3 (ipykernel)",
   "language": "python",
   "name": "python3"
  },
  "language_info": {
   "codemirror_mode": {
    "name": "ipython",
    "version": 3
   },
   "file_extension": ".py",
   "mimetype": "text/x-python",
   "name": "python",
   "nbconvert_exporter": "python",
   "pygments_lexer": "ipython3",
   "version": "3.11.4"
  }
 },
 "nbformat": 4,
 "nbformat_minor": 4
}
